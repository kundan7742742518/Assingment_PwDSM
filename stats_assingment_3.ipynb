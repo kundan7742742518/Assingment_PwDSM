{
 "cells": [
  {
   "cell_type": "markdown",
   "id": "fc617bdf-26c7-4104-bb77-1b657e6b7dc6",
   "metadata": {},
   "source": [
    "# ANS = 1"
   ]
  },
  {
   "cell_type": "code",
   "execution_count": 1,
   "id": "1a3932ab-175c-4b2c-8ecb-5759ac5f4965",
   "metadata": {},
   "outputs": [
    {
     "data": {
      "text/plain": [
       "'\\nA probability density function (PDF) is a function that describes the relative \\nlikelihood or probability of a continuous random variable taking on a particular \\nvalue within a given range. It is a mathematical function that assigns probabilities \\nto all possible outcomes of a random variable, and it is often used to model and \\nanalyze data in many fields, including physics, engineering, economics, and finance.\\n\\n'"
      ]
     },
     "execution_count": 1,
     "metadata": {},
     "output_type": "execute_result"
    }
   ],
   "source": [
    "\"\"\"\n",
    "A probability density function (PDF) is a function that describes the relative \n",
    "likelihood or probability of a continuous random variable taking on a particular \n",
    "value within a given range. It is a mathematical function that assigns probabilities \n",
    "to all possible outcomes of a random variable, and it is often used to model and \n",
    "analyze data in many fields, including physics, engineering, economics, and finance.\n",
    "\n",
    "\"\"\""
   ]
  },
  {
   "cell_type": "markdown",
   "id": "35e25c1e-738e-4d95-b2de-86d775b78e2b",
   "metadata": {},
   "source": [
    "# ANS = 2"
   ]
  },
  {
   "cell_type": "code",
   "execution_count": 2,
   "id": "9fa659ce-3e23-4a32-bb0b-51f4fa3e1bc8",
   "metadata": {},
   "outputs": [
    {
     "data": {
      "text/plain": [
       "'\\nNormal distribution\\nBinomial distribution\\nPoisson distribution\\nExponential distribution\\nUniform distribution\\n'"
      ]
     },
     "execution_count": 2,
     "metadata": {},
     "output_type": "execute_result"
    }
   ],
   "source": [
    "\"\"\"\n",
    "Normal distribution\n",
    "Binomial distribution\n",
    "Poisson distribution\n",
    "Exponential distribution\n",
    "Uniform distribution\n",
    "\"\"\""
   ]
  },
  {
   "cell_type": "markdown",
   "id": "cf94bec3-1d08-4b5d-bea7-128b9b8754a2",
   "metadata": {},
   "source": [
    "# ANS = 3"
   ]
  },
  {
   "cell_type": "code",
   "execution_count": 3,
   "id": "5bf5fb5f-da07-4ece-a99e-942bbfad35f0",
   "metadata": {},
   "outputs": [],
   "source": [
    "from scipy.stats import norm\n",
    "def norms_pdf(Mu,sigma , x):  # x- pdf \n",
    "    return norm.pdf(x,Mu,sigma)"
   ]
  },
  {
   "cell_type": "code",
   "execution_count": 4,
   "id": "264c2f66-ab7d-41d5-a4f7-8c15a4fa25bb",
   "metadata": {},
   "outputs": [
    {
     "name": "stdout",
     "output_type": "stream",
     "text": [
      "0.19947114020071635\n"
     ]
    }
   ],
   "source": [
    "a = 1\n",
    "b=2\n",
    "c = 1\n",
    "print(norms_pdf(a,b,c))"
   ]
  },
  {
   "cell_type": "markdown",
   "id": "7cc7e121-5177-4005-a11c-0836753d4d9c",
   "metadata": {},
   "source": [
    "# ANS = 4"
   ]
  },
  {
   "cell_type": "code",
   "execution_count": 5,
   "id": "148a3110-2411-4376-b384-32f4720630a9",
   "metadata": {},
   "outputs": [
    {
     "data": {
      "text/plain": [
       "'\\nThe binomial distribution is a probability distribution that describes the number of \\nsuccesses in a fixed number of independent trials, \\nwhere each trial has only two possible outcomes, \\ntypically called success or failure.\\nExample :- \\n1 Tossing a coin \\n2 Manufecturing quality control\\n'"
      ]
     },
     "execution_count": 5,
     "metadata": {},
     "output_type": "execute_result"
    }
   ],
   "source": [
    "\"\"\"\n",
    "The binomial distribution is a probability distribution that describes the number of \n",
    "successes in a fixed number of independent trials, \n",
    "where each trial has only two possible outcomes, \n",
    "typically called success or failure.\n",
    "Example :- \n",
    "1 Tossing a coin \n",
    "2 Manufecturing quality control\n",
    "\"\"\""
   ]
  },
  {
   "cell_type": "markdown",
   "id": "102b97aa-d1a8-40e5-94ab-39e4c3c77773",
   "metadata": {},
   "source": [
    "# ANS = 5"
   ]
  },
  {
   "cell_type": "code",
   "execution_count": 6,
   "id": "82056342-f002-4118-bd30-fad1e5d5a3b8",
   "metadata": {},
   "outputs": [],
   "source": [
    "import random \n",
    "from scipy.stats import binom\n",
    "import numpy as np\n"
   ]
  },
  {
   "cell_type": "code",
   "execution_count": 7,
   "id": "df971a42-ff69-491b-bff6-abd3e8cd7e36",
   "metadata": {},
   "outputs": [
    {
     "data": {
      "image/png": "[encoded data removed]",
      "text/plain": [
       "<Figure size 640x480 with 1 Axes>"
      ]
     },
     "metadata": {},
     "output_type": "display_data"
    }
   ],
   "source": [
    "import numpy as np\n",
    "import matplotlib.pyplot as plt\n",
    "from scipy.stats import binom\n",
    "p = 0.4\n",
    "n = 1000\n",
    "sample = np.random.binomial(n, p, size=1000)\n",
    "plt.hist(sample, bins=range(5))\n",
    "plt.xlabel('Number of successes')\n",
    "plt.ylabel('Frequency')\n",
    "plt.title('Binomial Distribution with n=1000, p=0.4')\n",
    "plt.savefig('binomial_histogram.png')\n",
    "\n",
    "    "
   ]
  },
  {
   "cell_type": "markdown",
   "id": "0e10d065-0d03-403e-97cb-c763652b8eec",
   "metadata": {},
   "source": [
    "# ANS = 6"
   ]
  },
  {
   "cell_type": "code",
   "execution_count": 8,
   "id": "ec67cc7c-e157-47b6-9712-4830efa4d3fa",
   "metadata": {},
   "outputs": [],
   "source": [
    "from scipy.stats import poisson\n",
    "mu = 0.6\n",
    "x= 1\n",
    "poss = poisson.cdf(x,mu)"
   ]
  },
  {
   "cell_type": "code",
   "execution_count": 9,
   "id": "995fba46-c131-4847-a096-e5fd4ce1debc",
   "metadata": {},
   "outputs": [
    {
     "data": {
      "text/plain": [
       "0.8780986177504424"
      ]
     },
     "execution_count": 9,
     "metadata": {},
     "output_type": "execute_result"
    }
   ],
   "source": [
    "poss"
   ]
  },
  {
   "cell_type": "markdown",
   "id": "48f184aa-28e6-4e7c-8168-452e9793c495",
   "metadata": {},
   "source": [
    "# ANS = 7"
   ]
  },
  {
   "cell_type": "code",
   "execution_count": 10,
   "id": "535b8657-12bf-4982-9113-5225b8b1cfa3",
   "metadata": {},
   "outputs": [
    {
     "data": {
      "text/plain": [
       "'\\nBinomial distribution describes the distribution of binary data from a finite sample.\\nThus it gives the probability of getting r events out of n trials.\\nPoisson distribution describes the distribution of binary data from an infinite sample. \\nThus it gives the probability of getting r events in a population.\\n'"
      ]
     },
     "execution_count": 10,
     "metadata": {},
     "output_type": "execute_result"
    }
   ],
   "source": [
    "\"\"\"\n",
    "Binomial distribution describes the distribution of binary data from a finite sample.\n",
    "Thus it gives the probability of getting r events out of n trials.\n",
    "Poisson distribution describes the distribution of binary data from an infinite sample. \n",
    "Thus it gives the probability of getting r events in a population.\n",
    "\"\"\""
   ]
  },
  {
   "cell_type": "markdown",
   "id": "4e61a20a-90de-41a9-b1f6-96c235239a95",
   "metadata": {},
   "source": [
    "# ANS = 8"
   ]
  },
  {
   "cell_type": "code",
   "execution_count": 11,
   "id": "681b22d5-346a-4983-991a-7a6622fa1694",
   "metadata": {},
   "outputs": [],
   "source": [
    "import numpy as np\n",
    "from scipy.stats import poisson"
   ]
  },
  {
   "cell_type": "code",
   "execution_count": 12,
   "id": "483ac9f6-1e80-4958-b9cc-a21b0162e1bb",
   "metadata": {},
   "outputs": [],
   "source": [
    "rv = poisson.rvs(mu=5 , size = 1000)\n",
    "sample_mean = np.mean(rv)\n",
    "sample_var = np.var(rv)"
   ]
  },
  {
   "cell_type": "code",
   "execution_count": 13,
   "id": "d4d573a4-f8bd-4957-9065-32ab17f49b68",
   "metadata": {},
   "outputs": [
    {
     "data": {
      "text/plain": [
       "5.3694310000000005"
      ]
     },
     "execution_count": 13,
     "metadata": {},
     "output_type": "execute_result"
    }
   ],
   "source": [
    "sample_var"
   ]
  },
  {
   "cell_type": "markdown",
   "id": "36063283-fd76-433e-abd1-bfa4229774e7",
   "metadata": {},
   "source": [
    "# ANS = 9"
   ]
  },
  {
   "cell_type": "code",
   "execution_count": 15,
   "id": "7e44cee1-5c15-4f68-a0b7-5e68f45bcdbd",
   "metadata": {},
   "outputs": [
    {
     "data": {
      "text/plain": [
       "'\\nThe mean of the binomial distribution is always equal to p, \\nand the variance is always equal to pq/N.\\n\\nFor a Poisson Distribution, the mean and the variance are equal. \\nIt means that E(X) = V(X) Where, V(X) is the variance.\\n\\nThe binomial distribution and poisson distributin show similarity on their mean.\\n'"
      ]
     },
     "execution_count": 15,
     "metadata": {},
     "output_type": "execute_result"
    }
   ],
   "source": [
    "\"\"\"\n",
    "The mean of the binomial distribution is always equal to p, \n",
    "and the variance is always equal to pq/N.\n",
    "\n",
    "For a Poisson Distribution, the mean and the variance are equal. \n",
    "It means that E(X) = V(X) Where, V(X) is the variance.\n",
    "\n",
    "The binomial distribution and poisson distributin show similarity on their mean.\n",
    "\"\"\""
   ]
  },
  {
   "cell_type": "markdown",
   "id": "e8f59fc9-27ea-4310-8533-4633a815ce8d",
   "metadata": {},
   "source": [
    "# ANS = 10"
   ]
  },
  {
   "cell_type": "code",
   "execution_count": 18,
   "id": "b71b3431-22c5-44e1-b95c-e901dd8af96c",
   "metadata": {},
   "outputs": [
    {
     "data": {
      "text/plain": [
       "'\\nIn a normal distribution, the data is symmetrically distributed around the mean. \\nTherefore, the least frequent data appears at the tails of the distribution, \\nwhere the curve begins to flatten out towards the x-axis. \\n\\nSpecifically, the data that is the furthest away from the mean is the least frequent. \\nIn a standard normal distribution (where the mean is 0 and the standard deviation is 1), \\ndata that is more than 3 standard deviations away from the mean is considered to be rare, \\nand data that is more than 4 standard deviations away from the mean is extremely rare. \\n\\nSo, the least frequent data in a normal distribution will typically appear in the\\nextreme tails of the distribution, beyond a certain number of standard deviations\\nfrom the mean.\\n\\n'"
      ]
     },
     "execution_count": 18,
     "metadata": {},
     "output_type": "execute_result"
    }
   ],
   "source": [
    "\"\"\"\n",
    "In a normal distribution, the data is symmetrically distributed around the mean. \n",
    "Therefore, the least frequent data appears at the tails of the distribution, \n",
    "where the curve begins to flatten out towards the x-axis. \n",
    "\n",
    "Specifically, the data that is the furthest away from the mean is the least frequent. \n",
    "In a standard normal distribution (where the mean is 0 and the standard deviation is 1), \n",
    "data that is more than 3 standard deviations away from the mean is considered to be rare, \n",
    "and data that is more than 4 standard deviations away from the mean is extremely rare. \n",
    "\n",
    "So, the least frequent data in a normal distribution will typically appear in the\n",
    "extreme tails of the distribution, beyond a certain number of standard deviations\n",
    "from the mean.\n",
    "\n",
    "\"\"\""
   ]
  },
  {
   "cell_type": "code",
   "execution_count": null,
   "id": "1c0528f3-6827-439a-95a6-e5953984fb70",
   "metadata": {},
   "outputs": [],
   "source": []
  }
 ],
 "metadata": {
  "kernelspec": {
   "display_name": "Python 3 (ipykernel)",
   "language": "python",
   "name": "python3"
  },
  "language_info": {
   "codemirror_mode": {
    "name": "ipython",
    "version": 3
   },
   "file_extension": ".py",
   "mimetype": "text/x-python",
   "name": "python",
   "nbconvert_exporter": "python",
   "pygments_lexer": "ipython3",
   "version": "3.10.8"
  }
 },
 "nbformat": 4,
 "nbformat_minor": 5
}
