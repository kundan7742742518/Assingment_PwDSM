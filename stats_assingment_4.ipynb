{
 "cells": [
  {
   "cell_type": "markdown",
   "id": "3f27c772-5fbc-48f1-adac-042bfce11918",
   "metadata": {},
   "source": [
    "# ANS = 1"
   ]
  },
  {
   "cell_type": "code",
   "execution_count": 1,
   "id": "9924f98d-9acf-40cb-bcbb-560d11af22f7",
   "metadata": {},
   "outputs": [
    {
     "data": {
      "text/plain": [
       "\"\\n1= Probability Mass Function (PMF):\\nThe PMF is a function that gives the probability of a discrete random variable taking on a specific value. It is defined as:\\n\\nP(X = x) = f(x)\\n\\nwhere P(X = x) is the probability of X taking on the value x, \\nand f(x) is the PMF of X.\\n\\nFor example, let's say we have a fair six-sided die, \\nand we want to know the probability of rolling a 3. In this case, \\nthe random variable X represents the outcome of the roll, and X can \\ntake on values 1, 2, 3, 4, 5, or 6. The PMF of X is given by:\\n\\nf(x) = 1/6, for x = 1, 2, 3, 4, 5, 6\\n\\nThis means that the probability of rolling any specific value on the die is 1/6.\\n\\n2 = Probability Density Function (PDF):\\nThe PDF is a function that gives the probability density \\n(rather than the probability itself) of a continuous random variable taking \\non a specific value. It is defined as:\\n\\nf(x) = dF(x)/dx\\n\\nwhere f(x) is the PDF of the random variable X, \\nF(x) is the cumulative distribution function of X, \\nand dF(x)/dx is the derivative of F(x) with respect to x.\\n\\nFor example, let's say we have a continuous random variable X that follows a \\nnormal distribution with mean mu = 0 and standard deviation sigma = 1. \\nThe PDF of X is given by:\\n\\nf(x) = (1/sqrt(2pisigma^2)) * exp(-(x-mu)^2/(2*sigma^2))\\n\\nThis means that the probability of X taking on a\\nspecific value (such as x = 0) is actually 0, \\nsince the probability of any specific value in \\na continuous distribution is infinitesimally small.\\nInstead, we use the PDF to describe the probability \\ndensity of X at different points in its distribution.\\n\""
      ]
     },
     "execution_count": 1,
     "metadata": {},
     "output_type": "execute_result"
    }
   ],
   "source": [
    "\"\"\"\n",
    "1= Probability Mass Function (PMF):\n",
    "The PMF is a function that gives the probability of a discrete random variable taking on a specific value. It is defined as:\n",
    "\n",
    "P(X = x) = f(x)\n",
    "\n",
    "where P(X = x) is the probability of X taking on the value x, \n",
    "and f(x) is the PMF of X.\n",
    "\n",
    "For example, let's say we have a fair six-sided die, \n",
    "and we want to know the probability of rolling a 3. In this case, \n",
    "the random variable X represents the outcome of the roll, and X can \n",
    "take on values 1, 2, 3, 4, 5, or 6. The PMF of X is given by:\n",
    "\n",
    "f(x) = 1/6, for x = 1, 2, 3, 4, 5, 6\n",
    "\n",
    "This means that the probability of rolling any specific value on the die is 1/6.\n",
    "\n",
    "2 = Probability Density Function (PDF):\n",
    "The PDF is a function that gives the probability density \n",
    "(rather than the probability itself) of a continuous random variable taking \n",
    "on a specific value. It is defined as:\n",
    "\n",
    "f(x) = dF(x)/dx\n",
    "\n",
    "where f(x) is the PDF of the random variable X, \n",
    "F(x) is the cumulative distribution function of X, \n",
    "and dF(x)/dx is the derivative of F(x) with respect to x.\n",
    "\n",
    "For example, let's say we have a continuous random variable X that follows a \n",
    "normal distribution with mean mu = 0 and standard deviation sigma = 1. \n",
    "The PDF of X is given by:\n",
    "\n",
    "f(x) = (1/sqrt(2pisigma^2)) * exp(-(x-mu)^2/(2*sigma^2))\n",
    "\n",
    "This means that the probability of X taking on a\n",
    "specific value (such as x = 0) is actually 0, \n",
    "since the probability of any specific value in \n",
    "a continuous distribution is infinitesimally small.\n",
    "Instead, we use the PDF to describe the probability \n",
    "density of X at different points in its distribution.\n",
    "\"\"\""
   ]
  },
  {
   "cell_type": "markdown",
   "id": "366780f2-37b7-40f5-a89b-b84527043d54",
   "metadata": {},
   "source": [
    "# ANS = 2"
   ]
  },
  {
   "cell_type": "code",
   "execution_count": 2,
   "id": "63aad586-bd63-47bc-a14b-82f4307e1de9",
   "metadata": {},
   "outputs": [
    {
     "data": {
      "text/plain": [
       "\"\\nhe Cumulative Density Function (CDF) is a function that gives the probability that a\\nrandom variable X is less than or equal to a certain value x. In other words, \\nit gives the cumulative probability up to x.\\n\\nThe CDF of a random variable X is defined as:\\n\\nF(x) = P(X <= x)\\n\\nwhere P(X <= x) is the probability that X takes on a value less than or equal to x.\\n\\nFor example, let's say we have a fair six-sided die, and we want to find the \\nCDF of the random variable X that represents the outcome of a single roll. \\nThe possible values of X are 1, 2, 3, 4, 5, and 6, and each has an equal probability of 1/6.\\n\\nThe CDF of X is given by:\\n\\nF(x) = P(X <= x)\\nSo, for example, the probability of rolling a number less than or equal to 3 is:\\n\\nF(3) = P(X <= 3) = 3/6 = 1/2\\n\\n\""
      ]
     },
     "execution_count": 2,
     "metadata": {},
     "output_type": "execute_result"
    }
   ],
   "source": [
    "\"\"\"\n",
    "he Cumulative Density Function (CDF) is a function that gives the probability that a\n",
    "random variable X is less than or equal to a certain value x. In other words, \n",
    "it gives the cumulative probability up to x.\n",
    "\n",
    "The CDF of a random variable X is defined as:\n",
    "\n",
    "F(x) = P(X <= x)\n",
    "\n",
    "where P(X <= x) is the probability that X takes on a value less than or equal to x.\n",
    "\n",
    "For example, let's say we have a fair six-sided die, and we want to find the \n",
    "CDF of the random variable X that represents the outcome of a single roll. \n",
    "The possible values of X are 1, 2, 3, 4, 5, and 6, and each has an equal probability of 1/6.\n",
    "\n",
    "The CDF of X is given by:\n",
    "\n",
    "F(x) = P(X <= x)\n",
    "So, for example, the probability of rolling a number less than or equal to 3 is:\n",
    "\n",
    "F(3) = P(X <= 3) = 3/6 = 1/2\n",
    "\n",
    "\"\"\""
   ]
  },
  {
   "cell_type": "markdown",
   "id": "8878cf80-8c4e-4b9f-b309-43debb93beba",
   "metadata": {},
   "source": [
    "# ANS = 3"
   ]
  },
  {
   "cell_type": "code",
   "execution_count": 3,
   "id": "625a23d9-727c-4a39-a24a-74284fa06e5f",
   "metadata": {},
   "outputs": [
    {
     "data": {
      "text/plain": [
       "'\\nPhysical measurements\\nIQ scores\\nFinancial data\\nError in measurment \\nNetural Phinomena \\n\\n\\nthe normal distribution is characterized by two parameters, \\nthe mean and the standard deviation, \\nwhich determine the center and spread of the distribution, \\nrespectively. The mean determines the location of the peak of the curve, \\nand the standard deviation determines the width of the curve. \\nA higher mean and a smaller standard deviation correspond to a more concentrated distribution,\\nwhile a lower mean and a larger standard deviation correspond to a more spread-out distribution.\\nThese parameters are important for understanding the properties of the normal distribution, \\nand they can be used to model a wide range of phenomena in many different fields.\\n\\n'"
      ]
     },
     "execution_count": 3,
     "metadata": {},
     "output_type": "execute_result"
    }
   ],
   "source": [
    "\"\"\"\n",
    "Physical measurements\n",
    "IQ scores\n",
    "Financial data\n",
    "Error in measurment \n",
    "Netural Phinomena \n",
    "\n",
    "\n",
    "the normal distribution is characterized by two parameters, \n",
    "the mean and the standard deviation, \n",
    "which determine the center and spread of the distribution, \n",
    "respectively. The mean determines the location of the peak of the curve, \n",
    "and the standard deviation determines the width of the curve. \n",
    "A higher mean and a smaller standard deviation correspond to a more concentrated distribution,\n",
    "while a lower mean and a larger standard deviation correspond to a more spread-out distribution.\n",
    "These parameters are important for understanding the properties of the normal distribution, \n",
    "and they can be used to model a wide range of phenomena in many different fields.\n",
    "\n",
    "\"\"\""
   ]
  },
  {
   "cell_type": "markdown",
   "id": "6e8dacab-162d-4e57-9741-799adbb6d260",
   "metadata": {},
   "source": [
    "# ANS = 4"
   ]
  },
  {
   "cell_type": "code",
   "execution_count": 4,
   "id": "33b99acb-9b29-4473-b3ba-97693293b3ee",
   "metadata": {},
   "outputs": [
    {
     "data": {
      "text/plain": [
       "'\\nMany natural phenomena and processes follow a normal distribution\\nCentral Limit Theorem\\nInferential statistics\\nQuality control\\nRisk management\\n\\nExample:-\\nExamples of real-life situations where the normal distribution is used include the distribution of exam scores, \\nthe heights of a large sample of people, the distribution of stock returns, \\nand the distribution of quality control measurements in manufacturing. \\nIn summary, the normal distribution is a fundamental concept in statistics and probability \\ntheory that is essential for understanding and modeling many real-world phenomena.\\n\\n\\n'"
      ]
     },
     "execution_count": 4,
     "metadata": {},
     "output_type": "execute_result"
    }
   ],
   "source": [
    "\"\"\"\n",
    "Many natural phenomena and processes follow a normal distribution\n",
    "Central Limit Theorem\n",
    "Inferential statistics\n",
    "Quality control\n",
    "Risk management\n",
    "\n",
    "Example:-\n",
    "Examples of real-life situations where the normal distribution is used include the distribution of exam scores, \n",
    "the heights of a large sample of people, the distribution of stock returns, \n",
    "and the distribution of quality control measurements in manufacturing. \n",
    "In summary, the normal distribution is a fundamental concept in statistics and probability \n",
    "theory that is essential for understanding and modeling many real-world phenomena.\n",
    "\n",
    "\n",
    "\"\"\""
   ]
  },
  {
   "cell_type": "markdown",
   "id": "1f4adfe2-7d97-47c9-836f-26e5f3c7f918",
   "metadata": {},
   "source": [
    "# ANS = 5"
   ]
  },
  {
   "cell_type": "code",
   "execution_count": 5,
   "id": "b4a00805-1812-4183-b3d1-aa5c2765ac28",
   "metadata": {},
   "outputs": [
    {
     "data": {
      "text/plain": [
       "\"\\nThe Bernoulli distribution is characterized by a single parameter, p, \\nwhich represents the probability of success. The probability of failure is then \\ngiven by (1-p). The distribution has a probability mass function (PMF) that takes the \\nvalue 1 for the success outcome and 0 for the failure outcome.\\n\\nAn example of the Bernoulli distribution is the outcome of a single coin flip. \\nLet's say we define success as getting heads and failure as getting tails. \\nIf the coin is fair, then the probability of success (getting heads) is 0.5, \\nand the probability of failure (getting tails) is also 0.5. We can model this\\nsituation using the Bernoulli distribution with p=0.5. Thus, the probability mass\\nfunction of the Bernoulli distribution would be:\\n\\nP(X=1) = 0.5 (for success)\\nP(X=0) = 0.5 (for failure)\\n\\nWhere X is a random variable representing the outcome of the experiment. \\nIf we repeat this experiment multiple times, we can use the binomial distribution to \\nmodel the number of successes in a given number of trials.\\n\\nThe Bernoulli distribution describes the outcomes of a single independent \\nexperiment with two possible outcomes (success and failure). It is characterized by a single parameter,\\np, which represents the probability of success. The probability mass function (PMF) of the Bernoulli\\ndistribution takes the value 1 for success and 0 for failure.\\n\\n\\n\\nThe binomial distribution, on the other hand, \\ndescribes the outcomes of multiple independent Bernoulli trials. \\nIt is characterized by two parameters: the number of trials, n, \\nand the probability of success, p. The probability mass function of the \\nbinomial distribution gives the probability of obtaining a certain number of successes (k) \\nin n independent Bernoulli trials.\\n\\n\\n\\n\\n\""
      ]
     },
     "execution_count": 5,
     "metadata": {},
     "output_type": "execute_result"
    }
   ],
   "source": [
    "\"\"\"\n",
    "The Bernoulli distribution is characterized by a single parameter, p, \n",
    "which represents the probability of success. The probability of failure is then \n",
    "given by (1-p). The distribution has a probability mass function (PMF) that takes the \n",
    "value 1 for the success outcome and 0 for the failure outcome.\n",
    "\n",
    "An example of the Bernoulli distribution is the outcome of a single coin flip. \n",
    "Let's say we define success as getting heads and failure as getting tails. \n",
    "If the coin is fair, then the probability of success (getting heads) is 0.5, \n",
    "and the probability of failure (getting tails) is also 0.5. We can model this\n",
    "situation using the Bernoulli distribution with p=0.5. Thus, the probability mass\n",
    "function of the Bernoulli distribution would be:\n",
    "\n",
    "P(X=1) = 0.5 (for success)\n",
    "P(X=0) = 0.5 (for failure)\n",
    "\n",
    "Where X is a random variable representing the outcome of the experiment. \n",
    "If we repeat this experiment multiple times, we can use the binomial distribution to \n",
    "model the number of successes in a given number of trials.\n",
    "\n",
    "The Bernoulli distribution describes the outcomes of a single independent \n",
    "experiment with two possible outcomes (success and failure). It is characterized by a single parameter,\n",
    "p, which represents the probability of success. The probability mass function (PMF) of the Bernoulli\n",
    "distribution takes the value 1 for success and 0 for failure.\n",
    "\n",
    "\n",
    "\n",
    "The binomial distribution, on the other hand, \n",
    "describes the outcomes of multiple independent Bernoulli trials. \n",
    "It is characterized by two parameters: the number of trials, n, \n",
    "and the probability of success, p. The probability mass function of the \n",
    "binomial distribution gives the probability of obtaining a certain number of successes (k) \n",
    "in n independent Bernoulli trials.\n",
    "\n",
    "\n",
    "\n",
    "\n",
    "\"\"\""
   ]
  },
  {
   "cell_type": "markdown",
   "id": "ba1e3d14-a2cc-4fb7-8b7e-ddf866449fba",
   "metadata": {},
   "source": [
    "# ANS = 6"
   ]
  },
  {
   "cell_type": "code",
   "execution_count": 13,
   "id": "3f13c2b7-0c5f-465a-a88c-fb787927eb29",
   "metadata": {},
   "outputs": [
    {
     "name": "stdout",
     "output_type": "stream",
     "text": [
      "1.0\n"
     ]
    }
   ],
   "source": [
    "def z_score(mu , sigma , x):\n",
    "    z = x-mu\n",
    "    z_n =  z/sigma\n",
    "    return z_n\n",
    "a  = 50\n",
    "b = 10\n",
    "c = 60\n",
    "print(z_score(a,b,c))"
   ]
  },
  {
   "cell_type": "code",
   "execution_count": 14,
   "id": "ab96c3e9-7f10-453b-9a7a-1123c0107ec8",
   "metadata": {},
   "outputs": [
    {
     "data": {
      "text/plain": [
       "'\\nWE find out this z-score in z table. \\nTherefore, the probability that a \\nrandomly selected observation from the dataset will be greater\\nthan 60 is 0.1587 or 15.87%.\\n\\n'"
      ]
     },
     "execution_count": 14,
     "metadata": {},
     "output_type": "execute_result"
    }
   ],
   "source": [
    "\"\"\"\n",
    "WE find out this z-score in z table. \n",
    "Therefore, the probability that a \n",
    "randomly selected observation from the dataset will be greater\n",
    "than 60 is 0.1587 or 15.87%.\n",
    "\n",
    "\"\"\""
   ]
  },
  {
   "cell_type": "markdown",
   "id": "84e69193-c5a9-49f8-a1aa-9f42b6d08199",
   "metadata": {},
   "source": [
    "#  ANS = 7"
   ]
  },
  {
   "cell_type": "code",
   "execution_count": 16,
   "id": "76246b96-055a-4faa-9ec0-fc2663b4f888",
   "metadata": {},
   "outputs": [
    {
     "data": {
      "text/plain": [
       "\"\\nIn probability theory and statistics,\\nthe uniform distribution is a probability distribution where all possible outcomes are equally likely. \\nIt is also known as a rectangular distribution because the probability density function is a rectangle.\\nThe uniform distribution can be defined by two parameters:\\na minimum value (a) and a maximum value (b). \\nAny value between a and b has the same probability of occurring. \\nThe probability density function of a uniform distribution is:\\n\\nf(x) = 1 / (b - a), for a <= x <= b\\nf(x) = 0, for x < a or x > b\\n\\n\\n suppose we have a six-sided fair die. Each face has an equal probability of showing up when the die is rolled. \\n The possible outcomes are 1, 2, 3, 4, 5, and 6. We can say that the probability of rolling any particular\\n number is 1/6. This is an example of a discrete uniform distribution.\\n\\nNow, let's consider a continuous uniform distribution. \\nSuppose we have a piece of rope that is 10 meters long. If we randomly cut the rope anywhere, \\nany length between 0 and 10 meters is equally likely to be chosen. \\nWe can say that the length of the rope is uniformly distributed between 0 and 10 meters.\\nIn this case, the minimum value (a) is 0, and the maximum value (b) is 10. \\nThe probability of selecting any particular length of the rope is 1/10.\\n\\n\\n\""
      ]
     },
     "execution_count": 16,
     "metadata": {},
     "output_type": "execute_result"
    }
   ],
   "source": [
    "\"\"\"\n",
    "In probability theory and statistics,\n",
    "the uniform distribution is a probability distribution where all possible outcomes are equally likely. \n",
    "It is also known as a rectangular distribution because the probability density function is a rectangle.\n",
    "The uniform distribution can be defined by two parameters:\n",
    "a minimum value (a) and a maximum value (b). \n",
    "Any value between a and b has the same probability of occurring. \n",
    "The probability density function of a uniform distribution is:\n",
    "\n",
    "f(x) = 1 / (b - a), for a <= x <= b\n",
    "f(x) = 0, for x < a or x > b\n",
    "\n",
    "\n",
    " suppose we have a six-sided fair die. Each face has an equal probability of showing up when the die is rolled. \n",
    " The possible outcomes are 1, 2, 3, 4, 5, and 6. We can say that the probability of rolling any particular\n",
    " number is 1/6. This is an example of a discrete uniform distribution.\n",
    "\n",
    "Now, let's consider a continuous uniform distribution. \n",
    "Suppose we have a piece of rope that is 10 meters long. If we randomly cut the rope anywhere, \n",
    "any length between 0 and 10 meters is equally likely to be chosen. \n",
    "We can say that the length of the rope is uniformly distributed between 0 and 10 meters.\n",
    "In this case, the minimum value (a) is 0, and the maximum value (b) is 10. \n",
    "The probability of selecting any particular length of the rope is 1/10.\n",
    "\n",
    "\n",
    "\"\"\""
   ]
  },
  {
   "cell_type": "markdown",
   "id": "d7dccf5e-54ac-4045-b92b-582fff447792",
   "metadata": {},
   "source": [
    "# ANS = 8"
   ]
  },
  {
   "cell_type": "code",
   "execution_count": 17,
   "id": "c91d8db2-a803-40b2-ae69-be8380d2599e",
   "metadata": {},
   "outputs": [
    {
     "data": {
      "text/plain": [
       "\"\\nThe z-score, also known as the standard score, \\nis a statistical measurement that indicates how many standard deviations an observation or data \\npoint is away from the mean of its distribution. It is a way to standardize data and compare observations \\nfrom different normal distributions.\\nz = (x - μ) / σ\\nz = (80 - 70) / 10\\nz = 1\\n \\nWe can also interpret this as John's score being in the top 16% of all scores on the test, \\nas we can look up the area to the right of z = 1 on a standard normal distribution table or use a \\ncalculator to find the corresponding cumulative probability.\\n\\n\""
      ]
     },
     "execution_count": 17,
     "metadata": {},
     "output_type": "execute_result"
    }
   ],
   "source": [
    "\"\"\"\n",
    "The z-score, also known as the standard score, \n",
    "is a statistical measurement that indicates how many standard deviations an observation or data \n",
    "point is away from the mean of its distribution. It is a way to standardize data and compare observations \n",
    "from different normal distributions.\n",
    "z = (x - μ) / σ\n",
    "z = (80 - 70) / 10\n",
    "z = 1\n",
    " \n",
    "We can also interpret this as John's score being in the top 16% of all scores on the test, \n",
    "as we can look up the area to the right of z = 1 on a standard normal distribution table or use a \n",
    "calculator to find the corresponding cumulative probability.\n",
    "\n",
    "\"\"\""
   ]
  },
  {
   "cell_type": "markdown",
   "id": "41ed71ba-a85c-4c7b-9d3d-0c47b2a94821",
   "metadata": {},
   "source": [
    "# ANS = 9"
   ]
  },
  {
   "cell_type": "code",
   "execution_count": 18,
   "id": "70db25c7-3251-446a-8dec-5ba9eae056d5",
   "metadata": {},
   "outputs": [
    {
     "data": {
      "text/plain": [
       "'\\nThe Central Limit Theorem (CLT) is a fundamental concept in probability theory and statistics that states\\nthat the distribution of the sample means, taken from a large enough sample size, will be approximately normal, \\nregardless of the underlying distribution of the population.\\n\\nIn other words, if we take multiple random samples of size n from a population and calculate their means, \\nthe distribution of those means will approach a normal distribution as the sample size gets larger. \\nThis occurs even if the population from which the samples are drawn is not normally distributed.\\n\\nThe Central Limit Theorem is important because it enables us to make statistical inferences about a \\npopulation based on a sample. Specifically, we can use the sample mean and standard deviation to estimate \\nthe population mean and standard deviation.\\n\\nThere are some important assumptions and conditions that must be met for the Central Limit Theorem to hold, \\nincluding:\\n\\n1. The sample size is large enough (typically n ≥ 30)\\n2. The samples are independent\\n3. The population has a finite variance\\n\\nThe Central Limit Theorem has many practical applications in statistics, including hypothesis testing, \\nconfidence interval estimation, and regression analysis. It also plays an important role in quality control, \\nfinancial analysis, and scientific research.\\n\\n'"
      ]
     },
     "execution_count": 18,
     "metadata": {},
     "output_type": "execute_result"
    }
   ],
   "source": [
    "\"\"\"\n",
    "The Central Limit Theorem (CLT) is a fundamental concept in probability theory and statistics that states\n",
    "that the distribution of the sample means, taken from a large enough sample size, will be approximately normal, \n",
    "regardless of the underlying distribution of the population.\n",
    "\n",
    "In other words, if we take multiple random samples of size n from a population and calculate their means, \n",
    "the distribution of those means will approach a normal distribution as the sample size gets larger. \n",
    "This occurs even if the population from which the samples are drawn is not normally distributed.\n",
    "\n",
    "The Central Limit Theorem is important because it enables us to make statistical inferences about a \n",
    "population based on a sample. Specifically, we can use the sample mean and standard deviation to estimate \n",
    "the population mean and standard deviation.\n",
    "\n",
    "There are some important assumptions and conditions that must be met for the Central Limit Theorem to hold, \n",
    "including:\n",
    "\n",
    "1. The sample size is large enough (typically n ≥ 30)\n",
    "2. The samples are independent\n",
    "3. The population has a finite variance\n",
    "\n",
    "The Central Limit Theorem has many practical applications in statistics, including hypothesis testing, \n",
    "confidence interval estimation, and regression analysis. It also plays an important role in quality control, \n",
    "financial analysis, and scientific research.\n",
    "\n",
    "\"\"\""
   ]
  },
  {
   "cell_type": "markdown",
   "id": "8c1b3817-d232-46e0-89ab-0040d1084b04",
   "metadata": {},
   "source": [
    "# ANS = 10"
   ]
  },
  {
   "cell_type": "code",
   "execution_count": null,
   "id": "7a065bfb-2829-4c41-b551-65e0c896c2b2",
   "metadata": {},
   "outputs": [],
   "source": [
    "\"\"\"\n",
    "Random sampling: The samples must be drawn at random from the population, \n",
    "without any bias or preference.\n",
    "Sample size: The sample size must be sufficiently large. \n",
    "Typically, the sample size should be at least 30 or more. \n",
    "This ensures that the sample mean has a normal distribution, \n",
    "regardless of the underlying population distribution.\n",
    "Independence: The samples must be independent of each other. \n",
    "This means that the value of one sample does not affect the value of another sample.\n",
    "Finite population: The population from which the samples are drawn must have a finite variance. \n",
    "This means that the population has a defined and finite set of values, and the distribution of the\n",
    "values has a finite variance.\n",
    "\"\"\""
   ]
  }
 ],
 "metadata": {
  "kernelspec": {
   "display_name": "Python 3 (ipykernel)",
   "language": "python",
   "name": "python3"
  },
  "language_info": {
   "codemirror_mode": {
    "name": "ipython",
    "version": 3
   },
   "file_extension": ".py",
   "mimetype": "text/x-python",
   "name": "python",
   "nbconvert_exporter": "python",
   "pygments_lexer": "ipython3",
   "version": "3.10.8"
  }
 },
 "nbformat": 4,
 "nbformat_minor": 5
}
