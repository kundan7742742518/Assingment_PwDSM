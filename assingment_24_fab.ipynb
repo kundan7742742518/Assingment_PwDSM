{
 "cells": [
  {
   "cell_type": "markdown",
   "id": "062a08e4-c16f-47fc-9d72-b6e415db3fe4",
   "metadata": {},
   "source": [
    "# ANS  = 1"
   ]
  },
  {
   "cell_type": "code",
   "execution_count": 1,
   "id": "c0418485-09fe-4d00-92a5-93c06fc34374",
   "metadata": {},
   "outputs": [],
   "source": [
    "import pandas as pd "
   ]
  },
  {
   "cell_type": "code",
   "execution_count": 2,
   "id": "9ec0e3e6-efaa-420f-87a0-2ab6f1eb0d9e",
   "metadata": {},
   "outputs": [],
   "source": [
    "df = pd.read_csv('test.csv') # This is csv the file reading function. "
   ]
  },
  {
   "cell_type": "code",
   "execution_count": 3,
   "id": "49dada56-de3e-43c6-9b15-c0b9d5fcd1bd",
   "metadata": {},
   "outputs": [
    {
     "data": {
      "text/html": [
       "<div>\n",
       "<style scoped>\n",
       "    .dataframe tbody tr th:only-of-type {\n",
       "        vertical-align: middle;\n",
       "    }\n",
       "\n",
       "    .dataframe tbody tr th {\n",
       "        vertical-align: top;\n",
       "    }\n",
       "\n",
       "    .dataframe thead th {\n",
       "        text-align: right;\n",
       "    }\n",
       "</style>\n",
       "<table border=\"1\" class=\"dataframe\">\n",
       "  <thead>\n",
       "    <tr style=\"text-align: right;\">\n",
       "      <th></th>\n",
       "      <th>seq_id</th>\n",
       "      <th>protein_sequence</th>\n",
       "      <th>pH</th>\n",
       "      <th>data_source</th>\n",
       "    </tr>\n",
       "  </thead>\n",
       "  <tbody>\n",
       "    <tr>\n",
       "      <th>0</th>\n",
       "      <td>31390</td>\n",
       "      <td>VPVNPEPDATSVENVAEKTGSGDSQSDPIKADLEVKGQSALPFDVD...</td>\n",
       "      <td>8</td>\n",
       "      <td>Novozymes</td>\n",
       "    </tr>\n",
       "    <tr>\n",
       "      <th>1</th>\n",
       "      <td>31391</td>\n",
       "      <td>VPVNPEPDATSVENVAKKTGSGDSQSDPIKADLEVKGQSALPFDVD...</td>\n",
       "      <td>8</td>\n",
       "      <td>Novozymes</td>\n",
       "    </tr>\n",
       "    <tr>\n",
       "      <th>2</th>\n",
       "      <td>31392</td>\n",
       "      <td>VPVNPEPDATSVENVAKTGSGDSQSDPIKADLEVKGQSALPFDVDC...</td>\n",
       "      <td>8</td>\n",
       "      <td>Novozymes</td>\n",
       "    </tr>\n",
       "    <tr>\n",
       "      <th>3</th>\n",
       "      <td>31393</td>\n",
       "      <td>VPVNPEPDATSVENVALCTGSGDSQSDPIKADLEVKGQSALPFDVD...</td>\n",
       "      <td>8</td>\n",
       "      <td>Novozymes</td>\n",
       "    </tr>\n",
       "    <tr>\n",
       "      <th>4</th>\n",
       "      <td>31394</td>\n",
       "      <td>VPVNPEPDATSVENVALFTGSGDSQSDPIKADLEVKGQSALPFDVD...</td>\n",
       "      <td>8</td>\n",
       "      <td>Novozymes</td>\n",
       "    </tr>\n",
       "  </tbody>\n",
       "</table>\n",
       "</div>"
      ],
      "text/plain": [
       "   seq_id                                   protein_sequence  pH data_source\n",
       "0   31390  VPVNPEPDATSVENVAEKTGSGDSQSDPIKADLEVKGQSALPFDVD...   8   Novozymes\n",
       "1   31391  VPVNPEPDATSVENVAKKTGSGDSQSDPIKADLEVKGQSALPFDVD...   8   Novozymes\n",
       "2   31392  VPVNPEPDATSVENVAKTGSGDSQSDPIKADLEVKGQSALPFDVDC...   8   Novozymes\n",
       "3   31393  VPVNPEPDATSVENVALCTGSGDSQSDPIKADLEVKGQSALPFDVD...   8   Novozymes\n",
       "4   31394  VPVNPEPDATSVENVALFTGSGDSQSDPIKADLEVKGQSALPFDVD...   8   Novozymes"
      ]
     },
     "execution_count": 3,
     "metadata": {},
     "output_type": "execute_result"
    }
   ],
   "source": [
    "df.head() # this  the that allow to see top 5 row of data. we check the datatset. "
   ]
  },
  {
   "cell_type": "code",
   "execution_count": 4,
   "id": "3056dfd5-c497-4fad-9667-35370146f542",
   "metadata": {},
   "outputs": [
    {
     "data": {
      "text/html": [
       "<div>\n",
       "<style scoped>\n",
       "    .dataframe tbody tr th:only-of-type {\n",
       "        vertical-align: middle;\n",
       "    }\n",
       "\n",
       "    .dataframe tbody tr th {\n",
       "        vertical-align: top;\n",
       "    }\n",
       "\n",
       "    .dataframe thead th {\n",
       "        text-align: right;\n",
       "    }\n",
       "</style>\n",
       "<table border=\"1\" class=\"dataframe\">\n",
       "  <thead>\n",
       "    <tr style=\"text-align: right;\">\n",
       "      <th></th>\n",
       "      <th>seq_id</th>\n",
       "      <th>pH</th>\n",
       "    </tr>\n",
       "  </thead>\n",
       "  <tbody>\n",
       "    <tr>\n",
       "      <th>count</th>\n",
       "      <td>2413.000000</td>\n",
       "      <td>2413.0</td>\n",
       "    </tr>\n",
       "    <tr>\n",
       "      <th>mean</th>\n",
       "      <td>32596.000000</td>\n",
       "      <td>8.0</td>\n",
       "    </tr>\n",
       "    <tr>\n",
       "      <th>std</th>\n",
       "      <td>696.717422</td>\n",
       "      <td>0.0</td>\n",
       "    </tr>\n",
       "    <tr>\n",
       "      <th>min</th>\n",
       "      <td>31390.000000</td>\n",
       "      <td>8.0</td>\n",
       "    </tr>\n",
       "    <tr>\n",
       "      <th>25%</th>\n",
       "      <td>31993.000000</td>\n",
       "      <td>8.0</td>\n",
       "    </tr>\n",
       "    <tr>\n",
       "      <th>50%</th>\n",
       "      <td>32596.000000</td>\n",
       "      <td>8.0</td>\n",
       "    </tr>\n",
       "    <tr>\n",
       "      <th>75%</th>\n",
       "      <td>33199.000000</td>\n",
       "      <td>8.0</td>\n",
       "    </tr>\n",
       "    <tr>\n",
       "      <th>max</th>\n",
       "      <td>33802.000000</td>\n",
       "      <td>8.0</td>\n",
       "    </tr>\n",
       "  </tbody>\n",
       "</table>\n",
       "</div>"
      ],
      "text/plain": [
       "             seq_id      pH\n",
       "count   2413.000000  2413.0\n",
       "mean   32596.000000     8.0\n",
       "std      696.717422     0.0\n",
       "min    31390.000000     8.0\n",
       "25%    31993.000000     8.0\n",
       "50%    32596.000000     8.0\n",
       "75%    33199.000000     8.0\n",
       "max    33802.000000     8.0"
      ]
     },
     "execution_count": 4,
     "metadata": {},
     "output_type": "execute_result"
    }
   ],
   "source": [
    "df.describe() # This function give us whole idiea about data."
   ]
  },
  {
   "cell_type": "code",
   "execution_count": 5,
   "id": "ca6421cd-43d9-473a-8958-3204da297e9e",
   "metadata": {},
   "outputs": [
    {
     "data": {
      "text/plain": [
       "Index                 128\n",
       "seq_id              19304\n",
       "protein_sequence    19304\n",
       "pH                  19304\n",
       "data_source         19304\n",
       "dtype: int64"
      ]
     },
     "execution_count": 5,
     "metadata": {},
     "output_type": "execute_result"
    }
   ],
   "source": [
    "df.memory_usage()  # This function tells us that how much memmory is used ."
   ]
  },
  {
   "cell_type": "code",
   "execution_count": 6,
   "id": "fa569fcc-b87c-4677-801c-8c3affd305f3",
   "metadata": {},
   "outputs": [
    {
     "data": {
      "text/plain": [
       "8    2413\n",
       "Name: pH, dtype: int64"
      ]
     },
     "execution_count": 6,
     "metadata": {},
     "output_type": "execute_result"
    }
   ],
   "source": [
    "df['pH'].value_counts() # counnt the unique values from data."
   ]
  },
  {
   "cell_type": "markdown",
   "id": "7ff2d4df-38d6-4257-ac82-55dcaa527d37",
   "metadata": {},
   "source": [
    "# ANS = 2"
   ]
  },
  {
   "cell_type": "code",
   "execution_count": 7,
   "id": "d42ade4d-fb30-4711-9511-fa07e8d5b519",
   "metadata": {},
   "outputs": [],
   "source": [
    "data_fram = {'A': [1,2,3,4,5],\n",
    "             'B': [6,7,8,9,10],\n",
    "             'C': [11,12,13,14,15],\n",
    "        \n",
    "            } \n",
    "\n",
    "df = pd.DataFrame(data_fram)"
   ]
  },
  {
   "cell_type": "code",
   "execution_count": 8,
   "id": "7c8551f7-b13b-45c2-8a74-36514a78ef38",
   "metadata": {},
   "outputs": [
    {
     "data": {
      "text/html": [
       "<div>\n",
       "<style scoped>\n",
       "    .dataframe tbody tr th:only-of-type {\n",
       "        vertical-align: middle;\n",
       "    }\n",
       "\n",
       "    .dataframe tbody tr th {\n",
       "        vertical-align: top;\n",
       "    }\n",
       "\n",
       "    .dataframe thead th {\n",
       "        text-align: right;\n",
       "    }\n",
       "</style>\n",
       "<table border=\"1\" class=\"dataframe\">\n",
       "  <thead>\n",
       "    <tr style=\"text-align: right;\">\n",
       "      <th></th>\n",
       "      <th>A</th>\n",
       "      <th>B</th>\n",
       "      <th>C</th>\n",
       "    </tr>\n",
       "  </thead>\n",
       "  <tbody>\n",
       "    <tr>\n",
       "      <th>0</th>\n",
       "      <td>1</td>\n",
       "      <td>6</td>\n",
       "      <td>11</td>\n",
       "    </tr>\n",
       "    <tr>\n",
       "      <th>1</th>\n",
       "      <td>2</td>\n",
       "      <td>7</td>\n",
       "      <td>12</td>\n",
       "    </tr>\n",
       "    <tr>\n",
       "      <th>2</th>\n",
       "      <td>3</td>\n",
       "      <td>8</td>\n",
       "      <td>13</td>\n",
       "    </tr>\n",
       "    <tr>\n",
       "      <th>3</th>\n",
       "      <td>4</td>\n",
       "      <td>9</td>\n",
       "      <td>14</td>\n",
       "    </tr>\n",
       "    <tr>\n",
       "      <th>4</th>\n",
       "      <td>5</td>\n",
       "      <td>10</td>\n",
       "      <td>15</td>\n",
       "    </tr>\n",
       "  </tbody>\n",
       "</table>\n",
       "</div>"
      ],
      "text/plain": [
       "   A   B   C\n",
       "0  1   6  11\n",
       "1  2   7  12\n",
       "2  3   8  13\n",
       "3  4   9  14\n",
       "4  5  10  15"
      ]
     },
     "execution_count": 8,
     "metadata": {},
     "output_type": "execute_result"
    }
   ],
   "source": [
    "df "
   ]
  },
  {
   "cell_type": "code",
   "execution_count": 9,
   "id": "899598b0-9cf6-464f-9025-10b314e84397",
   "metadata": {},
   "outputs": [
    {
     "data": {
      "text/html": [
       "<div>\n",
       "<style scoped>\n",
       "    .dataframe tbody tr th:only-of-type {\n",
       "        vertical-align: middle;\n",
       "    }\n",
       "\n",
       "    .dataframe tbody tr th {\n",
       "        vertical-align: top;\n",
       "    }\n",
       "\n",
       "    .dataframe thead th {\n",
       "        text-align: right;\n",
       "    }\n",
       "</style>\n",
       "<table border=\"1\" class=\"dataframe\">\n",
       "  <thead>\n",
       "    <tr style=\"text-align: right;\">\n",
       "      <th></th>\n",
       "      <th>A</th>\n",
       "      <th>B</th>\n",
       "      <th>C</th>\n",
       "    </tr>\n",
       "  </thead>\n",
       "  <tbody>\n",
       "    <tr>\n",
       "      <th>1</th>\n",
       "      <td>2</td>\n",
       "      <td>7</td>\n",
       "      <td>12</td>\n",
       "    </tr>\n",
       "    <tr>\n",
       "      <th>3</th>\n",
       "      <td>4</td>\n",
       "      <td>9</td>\n",
       "      <td>14</td>\n",
       "    </tr>\n",
       "  </tbody>\n",
       "</table>\n",
       "</div>"
      ],
      "text/plain": [
       "   A  B   C\n",
       "1  2  7  12\n",
       "3  4  9  14"
      ]
     },
     "execution_count": 9,
     "metadata": {},
     "output_type": "execute_result"
    }
   ],
   "source": [
    "df.reindex()[1::2]"
   ]
  },
  {
   "cell_type": "markdown",
   "id": "ad50e81d-a137-4c30-a3a8-5eca1eedc788",
   "metadata": {},
   "source": [
    "# ANS = 3"
   ]
  },
  {
   "cell_type": "code",
   "execution_count": 10,
   "id": "d20e3ab2-dc01-4bee-85db-7d744ceb2ff6",
   "metadata": {},
   "outputs": [],
   "source": [
    "data_fram = {'values': [10, 20, 30, 40, 50]}\n",
    "\n",
    "df = pd.DataFrame(data_fram)"
   ]
  },
  {
   "cell_type": "code",
   "execution_count": 11,
   "id": "c8186398-447e-4548-b650-aaee77bf7523",
   "metadata": {},
   "outputs": [
    {
     "data": {
      "text/plain": [
       "60"
      ]
     },
     "execution_count": 11,
     "metadata": {},
     "output_type": "execute_result"
    }
   ],
   "source": [
    "df['values'][:3].sum()"
   ]
  },
  {
   "cell_type": "markdown",
   "id": "35dbcab9-6e38-4ea0-aaac-6df1516bec88",
   "metadata": {},
   "source": [
    "# ANS = 4"
   ]
  },
  {
   "cell_type": "code",
   "execution_count": 12,
   "id": "bee3e826-4b22-4cd3-958e-e561963fc980",
   "metadata": {},
   "outputs": [],
   "source": [
    "df1 = {'text': ['Hello sir how are you', 'i hop you are well','and you doing well also i your job ']}\n",
    "df = pd.DataFrame(df1)"
   ]
  },
  {
   "cell_type": "code",
   "execution_count": 13,
   "id": "6b453469-7220-4440-8329-4c006b187dea",
   "metadata": {},
   "outputs": [
    {
     "data": {
      "text/html": [
       "<div>\n",
       "<style scoped>\n",
       "    .dataframe tbody tr th:only-of-type {\n",
       "        vertical-align: middle;\n",
       "    }\n",
       "\n",
       "    .dataframe tbody tr th {\n",
       "        vertical-align: top;\n",
       "    }\n",
       "\n",
       "    .dataframe thead th {\n",
       "        text-align: right;\n",
       "    }\n",
       "</style>\n",
       "<table border=\"1\" class=\"dataframe\">\n",
       "  <thead>\n",
       "    <tr style=\"text-align: right;\">\n",
       "      <th></th>\n",
       "      <th>text</th>\n",
       "    </tr>\n",
       "  </thead>\n",
       "  <tbody>\n",
       "    <tr>\n",
       "      <th>0</th>\n",
       "      <td>Hello sir how are you</td>\n",
       "    </tr>\n",
       "    <tr>\n",
       "      <th>1</th>\n",
       "      <td>i hop you are well</td>\n",
       "    </tr>\n",
       "    <tr>\n",
       "      <th>2</th>\n",
       "      <td>and you doing well also i your job</td>\n",
       "    </tr>\n",
       "  </tbody>\n",
       "</table>\n",
       "</div>"
      ],
      "text/plain": [
       "                                  text\n",
       "0                Hello sir how are you\n",
       "1                   i hop you are well\n",
       "2  and you doing well also i your job "
      ]
     },
     "execution_count": 13,
     "metadata": {},
     "output_type": "execute_result"
    }
   ],
   "source": [
    "df"
   ]
  },
  {
   "cell_type": "code",
   "execution_count": 14,
   "id": "44860b8b-838d-4349-85e7-e3fdef8839b5",
   "metadata": {},
   "outputs": [],
   "source": [
    "df['Word_count'] =  df['text'].str.count(' ')+1"
   ]
  },
  {
   "cell_type": "code",
   "execution_count": 15,
   "id": "621335d7-24ea-45b6-bd3f-24b1fd893ebb",
   "metadata": {},
   "outputs": [
    {
     "data": {
      "text/html": [
       "<div>\n",
       "<style scoped>\n",
       "    .dataframe tbody tr th:only-of-type {\n",
       "        vertical-align: middle;\n",
       "    }\n",
       "\n",
       "    .dataframe tbody tr th {\n",
       "        vertical-align: top;\n",
       "    }\n",
       "\n",
       "    .dataframe thead th {\n",
       "        text-align: right;\n",
       "    }\n",
       "</style>\n",
       "<table border=\"1\" class=\"dataframe\">\n",
       "  <thead>\n",
       "    <tr style=\"text-align: right;\">\n",
       "      <th></th>\n",
       "      <th>text</th>\n",
       "      <th>Word_count</th>\n",
       "    </tr>\n",
       "  </thead>\n",
       "  <tbody>\n",
       "    <tr>\n",
       "      <th>0</th>\n",
       "      <td>Hello sir how are you</td>\n",
       "      <td>5</td>\n",
       "    </tr>\n",
       "    <tr>\n",
       "      <th>1</th>\n",
       "      <td>i hop you are well</td>\n",
       "      <td>5</td>\n",
       "    </tr>\n",
       "    <tr>\n",
       "      <th>2</th>\n",
       "      <td>and you doing well also i your job</td>\n",
       "      <td>9</td>\n",
       "    </tr>\n",
       "  </tbody>\n",
       "</table>\n",
       "</div>"
      ],
      "text/plain": [
       "                                  text  Word_count\n",
       "0                Hello sir how are you           5\n",
       "1                   i hop you are well           5\n",
       "2  and you doing well also i your job            9"
      ]
     },
     "execution_count": 15,
     "metadata": {},
     "output_type": "execute_result"
    }
   ],
   "source": [
    "df "
   ]
  },
  {
   "cell_type": "markdown",
   "id": "fb083c96-9780-4ac5-b175-3e81332a2214",
   "metadata": {},
   "source": [
    "# ANS = 5 "
   ]
  },
  {
   "cell_type": "code",
   "execution_count": 16,
   "id": "8a36c8eb-a6be-41a8-bb66-990e3d3c5c26",
   "metadata": {},
   "outputs": [
    {
     "data": {
      "text/plain": [
       "'\\nThis are some basic diffrences that differ DataFram.size and DataFram.shape.\\n\\nThe size property returns the number of elements in the DataFrame. \\nThe number of elements is the number of rows * the number of columns.\\n\\nshape attribute in Pandas enables us to obtain the shape of a DataFrame. \\nFor example, if a DataFrame has a shape of (80, 10) , \\nthis implies that the DataFrame is made up of 80 rows and 10 columns of data.\\n\\n'"
      ]
     },
     "execution_count": 16,
     "metadata": {},
     "output_type": "execute_result"
    }
   ],
   "source": [
    "\"\"\"\n",
    "This are some basic diffrences that differ DataFram.size and DataFram.shape.\n",
    "\n",
    "The size property returns the number of elements in the DataFrame. \n",
    "The number of elements is the number of rows * the number of columns.\n",
    "\n",
    "shape attribute in Pandas enables us to obtain the shape of a DataFrame. \n",
    "For example, if a DataFrame has a shape of (80, 10) , \n",
    "this implies that the DataFrame is made up of 80 rows and 10 columns of data.\n",
    "\n",
    "\"\"\""
   ]
  },
  {
   "cell_type": "markdown",
   "id": "96d67df8-0447-4b3d-bc6d-1b907d24b6cc",
   "metadata": {},
   "source": [
    "# ANS = 6"
   ]
  },
  {
   "cell_type": "code",
   "execution_count": 17,
   "id": "5b026d13-28a2-4a5f-9479-516fe9d6de6d",
   "metadata": {},
   "outputs": [],
   "source": [
    "# Read_excal function we have used for read a excal file. "
   ]
  },
  {
   "cell_type": "markdown",
   "id": "ba8671df-746b-4283-b946-6d4d3322abe5",
   "metadata": {},
   "source": [
    "# ANS = 7"
   ]
  },
  {
   "cell_type": "code",
   "execution_count": 18,
   "id": "8a203a32-79ac-444f-88d0-b24bbe4eb95e",
   "metadata": {},
   "outputs": [
    {
     "name": "stdin",
     "output_type": "stream",
     "text": [
      "enter a eamil addrece:- jangirkundan540@gmail.com\n"
     ]
    }
   ],
   "source": [
    "Data_Frame = {\"Email\": [str(input(\"enter a eamil addrece:-\"))]}\n",
    "\n",
    "df = pd.DataFrame(Data_Frame)\n"
   ]
  },
  {
   "cell_type": "code",
   "execution_count": 19,
   "id": "26eb7e8c-e485-421e-8456-76831c03130f",
   "metadata": {},
   "outputs": [
    {
     "data": {
      "text/html": [
       "<div>\n",
       "<style scoped>\n",
       "    .dataframe tbody tr th:only-of-type {\n",
       "        vertical-align: middle;\n",
       "    }\n",
       "\n",
       "    .dataframe tbody tr th {\n",
       "        vertical-align: top;\n",
       "    }\n",
       "\n",
       "    .dataframe thead th {\n",
       "        text-align: right;\n",
       "    }\n",
       "</style>\n",
       "<table border=\"1\" class=\"dataframe\">\n",
       "  <thead>\n",
       "    <tr style=\"text-align: right;\">\n",
       "      <th></th>\n",
       "      <th>Email</th>\n",
       "    </tr>\n",
       "  </thead>\n",
       "  <tbody>\n",
       "    <tr>\n",
       "      <th>0</th>\n",
       "      <td>jangirkundan540@gmail.com</td>\n",
       "    </tr>\n",
       "  </tbody>\n",
       "</table>\n",
       "</div>"
      ],
      "text/plain": [
       "                       Email\n",
       "0  jangirkundan540@gmail.com"
      ]
     },
     "execution_count": 19,
     "metadata": {},
     "output_type": "execute_result"
    }
   ],
   "source": [
    "df"
   ]
  },
  {
   "cell_type": "code",
   "execution_count": 20,
   "id": "20179974-bed0-4b2b-9979-8ee7894d57bf",
   "metadata": {},
   "outputs": [],
   "source": [
    "df['Username']= df['Email'].str.split('@').str[0]\n"
   ]
  },
  {
   "cell_type": "code",
   "execution_count": 21,
   "id": "db4ddc29-f8e8-4408-aa2e-2f05074b0c28",
   "metadata": {},
   "outputs": [
    {
     "data": {
      "text/html": [
       "<div>\n",
       "<style scoped>\n",
       "    .dataframe tbody tr th:only-of-type {\n",
       "        vertical-align: middle;\n",
       "    }\n",
       "\n",
       "    .dataframe tbody tr th {\n",
       "        vertical-align: top;\n",
       "    }\n",
       "\n",
       "    .dataframe thead th {\n",
       "        text-align: right;\n",
       "    }\n",
       "</style>\n",
       "<table border=\"1\" class=\"dataframe\">\n",
       "  <thead>\n",
       "    <tr style=\"text-align: right;\">\n",
       "      <th></th>\n",
       "      <th>Email</th>\n",
       "      <th>Username</th>\n",
       "    </tr>\n",
       "  </thead>\n",
       "  <tbody>\n",
       "    <tr>\n",
       "      <th>0</th>\n",
       "      <td>jangirkundan540@gmail.com</td>\n",
       "      <td>jangirkundan540</td>\n",
       "    </tr>\n",
       "  </tbody>\n",
       "</table>\n",
       "</div>"
      ],
      "text/plain": [
       "                       Email         Username\n",
       "0  jangirkundan540@gmail.com  jangirkundan540"
      ]
     },
     "execution_count": 21,
     "metadata": {},
     "output_type": "execute_result"
    }
   ],
   "source": [
    "df"
   ]
  },
  {
   "cell_type": "markdown",
   "id": "f507b419-831a-4eb2-8408-c2453cddac67",
   "metadata": {},
   "source": [
    "# Ans  = 8"
   ]
  },
  {
   "cell_type": "code",
   "execution_count": 22,
   "id": "a312f30b-a7c6-4612-b9f8-8cb84515e341",
   "metadata": {},
   "outputs": [],
   "source": [
    "data = {\"A\": [3,8,6,2,9],\n",
    "       \"B\":[5,2,9,3,1],\n",
    "        \"C\":[1,7,4,5,2]\n",
    "       }\n",
    "\n",
    "df = pd.DataFrame(data)"
   ]
  },
  {
   "cell_type": "code",
   "execution_count": 23,
   "id": "0d96a1ee-80ce-4809-9b75-347f97aecd2b",
   "metadata": {},
   "outputs": [
    {
     "data": {
      "text/html": [
       "<div>\n",
       "<style scoped>\n",
       "    .dataframe tbody tr th:only-of-type {\n",
       "        vertical-align: middle;\n",
       "    }\n",
       "\n",
       "    .dataframe tbody tr th {\n",
       "        vertical-align: top;\n",
       "    }\n",
       "\n",
       "    .dataframe thead th {\n",
       "        text-align: right;\n",
       "    }\n",
       "</style>\n",
       "<table border=\"1\" class=\"dataframe\">\n",
       "  <thead>\n",
       "    <tr style=\"text-align: right;\">\n",
       "      <th></th>\n",
       "      <th>A</th>\n",
       "      <th>B</th>\n",
       "      <th>C</th>\n",
       "    </tr>\n",
       "  </thead>\n",
       "  <tbody>\n",
       "    <tr>\n",
       "      <th>0</th>\n",
       "      <td>3</td>\n",
       "      <td>5</td>\n",
       "      <td>1</td>\n",
       "    </tr>\n",
       "    <tr>\n",
       "      <th>1</th>\n",
       "      <td>8</td>\n",
       "      <td>2</td>\n",
       "      <td>7</td>\n",
       "    </tr>\n",
       "    <tr>\n",
       "      <th>2</th>\n",
       "      <td>6</td>\n",
       "      <td>9</td>\n",
       "      <td>4</td>\n",
       "    </tr>\n",
       "    <tr>\n",
       "      <th>3</th>\n",
       "      <td>2</td>\n",
       "      <td>3</td>\n",
       "      <td>5</td>\n",
       "    </tr>\n",
       "    <tr>\n",
       "      <th>4</th>\n",
       "      <td>9</td>\n",
       "      <td>1</td>\n",
       "      <td>2</td>\n",
       "    </tr>\n",
       "  </tbody>\n",
       "</table>\n",
       "</div>"
      ],
      "text/plain": [
       "   A  B  C\n",
       "0  3  5  1\n",
       "1  8  2  7\n",
       "2  6  9  4\n",
       "3  2  3  5\n",
       "4  9  1  2"
      ]
     },
     "execution_count": 23,
     "metadata": {},
     "output_type": "execute_result"
    }
   ],
   "source": [
    "df "
   ]
  },
  {
   "cell_type": "code",
   "execution_count": 24,
   "id": "13d7a41a-5ffc-40cc-b944-3a6e7ac3fa4f",
   "metadata": {},
   "outputs": [],
   "source": [
    "def select_data(df):\n",
    "    selected_data = df[(df[\"A\"]>5)&(df[\"B\"]<10)]\n",
    "    return selected_data"
   ]
  },
  {
   "cell_type": "code",
   "execution_count": 25,
   "id": "c0a98cd0-8712-4a80-abbc-f1313d653f09",
   "metadata": {},
   "outputs": [
    {
     "data": {
      "text/html": [
       "<div>\n",
       "<style scoped>\n",
       "    .dataframe tbody tr th:only-of-type {\n",
       "        vertical-align: middle;\n",
       "    }\n",
       "\n",
       "    .dataframe tbody tr th {\n",
       "        vertical-align: top;\n",
       "    }\n",
       "\n",
       "    .dataframe thead th {\n",
       "        text-align: right;\n",
       "    }\n",
       "</style>\n",
       "<table border=\"1\" class=\"dataframe\">\n",
       "  <thead>\n",
       "    <tr style=\"text-align: right;\">\n",
       "      <th></th>\n",
       "      <th>A</th>\n",
       "      <th>B</th>\n",
       "      <th>C</th>\n",
       "    </tr>\n",
       "  </thead>\n",
       "  <tbody>\n",
       "    <tr>\n",
       "      <th>1</th>\n",
       "      <td>8</td>\n",
       "      <td>2</td>\n",
       "      <td>7</td>\n",
       "    </tr>\n",
       "    <tr>\n",
       "      <th>4</th>\n",
       "      <td>9</td>\n",
       "      <td>1</td>\n",
       "      <td>2</td>\n",
       "    </tr>\n",
       "  </tbody>\n",
       "</table>\n",
       "</div>"
      ],
      "text/plain": [
       "   A  B  C\n",
       "1  8  2  7\n",
       "4  9  1  2"
      ]
     },
     "execution_count": 25,
     "metadata": {},
     "output_type": "execute_result"
    }
   ],
   "source": [
    "selected_data = select_data(df)\n",
    "selected_data[[\"A\",\"B\",\"C\"]][:5:2]"
   ]
  },
  {
   "cell_type": "markdown",
   "id": "45f20f1c-d637-46f0-91d2-15caf0985432",
   "metadata": {},
   "source": [
    "# ANS = 9 \n"
   ]
  },
  {
   "cell_type": "code",
   "execution_count": 26,
   "id": "9067702b-a1a5-46e6-909c-96d3a96e1602",
   "metadata": {},
   "outputs": [],
   "source": [
    "df = pd.DataFrame({'Values':[2,4,6,8]})"
   ]
  },
  {
   "cell_type": "code",
   "execution_count": 27,
   "id": "937ed465-4a66-4a79-8ffc-769ffebf0332",
   "metadata": {},
   "outputs": [
    {
     "data": {
      "text/html": [
       "<div>\n",
       "<style scoped>\n",
       "    .dataframe tbody tr th:only-of-type {\n",
       "        vertical-align: middle;\n",
       "    }\n",
       "\n",
       "    .dataframe tbody tr th {\n",
       "        vertical-align: top;\n",
       "    }\n",
       "\n",
       "    .dataframe thead th {\n",
       "        text-align: right;\n",
       "    }\n",
       "</style>\n",
       "<table border=\"1\" class=\"dataframe\">\n",
       "  <thead>\n",
       "    <tr style=\"text-align: right;\">\n",
       "      <th></th>\n",
       "      <th>Values</th>\n",
       "    </tr>\n",
       "  </thead>\n",
       "  <tbody>\n",
       "    <tr>\n",
       "      <th>0</th>\n",
       "      <td>2</td>\n",
       "    </tr>\n",
       "    <tr>\n",
       "      <th>1</th>\n",
       "      <td>4</td>\n",
       "    </tr>\n",
       "    <tr>\n",
       "      <th>2</th>\n",
       "      <td>6</td>\n",
       "    </tr>\n",
       "    <tr>\n",
       "      <th>3</th>\n",
       "      <td>8</td>\n",
       "    </tr>\n",
       "  </tbody>\n",
       "</table>\n",
       "</div>"
      ],
      "text/plain": [
       "   Values\n",
       "0       2\n",
       "1       4\n",
       "2       6\n",
       "3       8"
      ]
     },
     "execution_count": 27,
     "metadata": {},
     "output_type": "execute_result"
    }
   ],
   "source": [
    "df"
   ]
  },
  {
   "cell_type": "code",
   "execution_count": 28,
   "id": "393d6290-01dd-44de-a04c-87feb71bbd56",
   "metadata": {},
   "outputs": [
    {
     "data": {
      "text/plain": [
       "Values    5.0\n",
       "dtype: float64"
      ]
     },
     "execution_count": 28,
     "metadata": {},
     "output_type": "execute_result"
    }
   ],
   "source": [
    "df.mean()"
   ]
  },
  {
   "cell_type": "code",
   "execution_count": 29,
   "id": "ee4572bd-75e1-4390-be68-bb9aca02d6cf",
   "metadata": {},
   "outputs": [
    {
     "data": {
      "text/plain": [
       "Values    5.0\n",
       "dtype: float64"
      ]
     },
     "execution_count": 29,
     "metadata": {},
     "output_type": "execute_result"
    }
   ],
   "source": [
    "df.median()"
   ]
  },
  {
   "cell_type": "code",
   "execution_count": 30,
   "id": "0f03df46-1086-4643-af6e-438062861eae",
   "metadata": {},
   "outputs": [
    {
     "data": {
      "text/plain": [
       "Values    2.581989\n",
       "dtype: float64"
      ]
     },
     "execution_count": 30,
     "metadata": {},
     "output_type": "execute_result"
    }
   ],
   "source": [
    "df.std()"
   ]
  },
  {
   "cell_type": "markdown",
   "id": "8a4b26b1-60fa-4a16-b62e-9a0126790484",
   "metadata": {},
   "source": [
    "# ANS = 10"
   ]
  },
  {
   "cell_type": "code",
   "execution_count": 38,
   "id": "cc0a0d96-7620-4eca-9d95-7eb634180136",
   "metadata": {},
   "outputs": [],
   "source": [
    "data = {'Sales': [200,500,100,800,700,600,900],\n",
    "        'Date': [5-4-2023,6-4-2023,7-4-2023,8-4-2023,9-4-2023,10-4-2023,11-4-2023]\n",
    "       }\n",
    "\n",
    "df = pd.DataFrame(data)"
   ]
  },
  {
   "cell_type": "code",
   "execution_count": 39,
   "id": "b87dd0bc-fce0-41e6-8a78-90bbaeac5149",
   "metadata": {},
   "outputs": [],
   "source": [
    "def add_moving_average(df):\n",
    "    # Sort the DataFrame by the Date column\n",
    "    df = df.sort_values('Date')\n",
    "\n",
    "    # Use rolling() and mean() to calculate the moving average\n",
    "    df['MovingAverage'] = df['Sales'].rolling(window=7, min_periods=1).mean()\n",
    "\n",
    "    return df"
   ]
  },
  {
   "cell_type": "code",
   "execution_count": 40,
   "id": "e6fcd596-7fff-4dcf-a7d0-5f23bfddeb79",
   "metadata": {},
   "outputs": [
    {
     "name": "stdout",
     "output_type": "stream",
     "text": [
      "   Sales  Date  MovingAverage\n",
      "0    200 -2022     200.000000\n",
      "1    500 -2021     350.000000\n",
      "2    100 -2020     266.666667\n",
      "3    800 -2019     400.000000\n",
      "4    700 -2018     460.000000\n",
      "5    600 -2017     483.333333\n",
      "6    900 -2016     542.857143\n"
     ]
    }
   ],
   "source": [
    "print(add_moving_average(df))"
   ]
  },
  {
   "cell_type": "markdown",
   "id": "bffbe4cf-c4e9-4241-b9fe-ef9c88dc625d",
   "metadata": {},
   "source": [
    "# ANS = 11\n"
   ]
  },
  {
   "cell_type": "code",
   "execution_count": 52,
   "id": "ba3ce6a7-ab00-46db-be17-3523adc8e84e",
   "metadata": {},
   "outputs": [],
   "source": [
    "data = {'date': ['2023-01-01','2023-01-02','2023-01-03','2023-01-04','2023-01-05'] }\n",
    "\n",
    "df = pd.DataFrame(data)"
   ]
  },
  {
   "cell_type": "code",
   "execution_count": 53,
   "id": "01c21d8f-ab24-46e6-aeb4-d1f2779c81c4",
   "metadata": {},
   "outputs": [
    {
     "data": {
      "text/html": [
       "<div>\n",
       "<style scoped>\n",
       "    .dataframe tbody tr th:only-of-type {\n",
       "        vertical-align: middle;\n",
       "    }\n",
       "\n",
       "    .dataframe tbody tr th {\n",
       "        vertical-align: top;\n",
       "    }\n",
       "\n",
       "    .dataframe thead th {\n",
       "        text-align: right;\n",
       "    }\n",
       "</style>\n",
       "<table border=\"1\" class=\"dataframe\">\n",
       "  <thead>\n",
       "    <tr style=\"text-align: right;\">\n",
       "      <th></th>\n",
       "      <th>date</th>\n",
       "    </tr>\n",
       "  </thead>\n",
       "  <tbody>\n",
       "    <tr>\n",
       "      <th>0</th>\n",
       "      <td>2023-01-01</td>\n",
       "    </tr>\n",
       "    <tr>\n",
       "      <th>1</th>\n",
       "      <td>2023-01-02</td>\n",
       "    </tr>\n",
       "    <tr>\n",
       "      <th>2</th>\n",
       "      <td>2023-01-03</td>\n",
       "    </tr>\n",
       "    <tr>\n",
       "      <th>3</th>\n",
       "      <td>2023-01-04</td>\n",
       "    </tr>\n",
       "    <tr>\n",
       "      <th>4</th>\n",
       "      <td>2023-01-05</td>\n",
       "    </tr>\n",
       "  </tbody>\n",
       "</table>\n",
       "</div>"
      ],
      "text/plain": [
       "         date\n",
       "0  2023-01-01\n",
       "1  2023-01-02\n",
       "2  2023-01-03\n",
       "3  2023-01-04\n",
       "4  2023-01-05"
      ]
     },
     "execution_count": 53,
     "metadata": {},
     "output_type": "execute_result"
    }
   ],
   "source": [
    "df"
   ]
  },
  {
   "cell_type": "code",
   "execution_count": 56,
   "id": "ea050f68-f2f5-48e9-8af8-a5c76ec0ca32",
   "metadata": {},
   "outputs": [],
   "source": [
    "df['date'] = pd.to_datetime(df['date'])"
   ]
  },
  {
   "cell_type": "code",
   "execution_count": 60,
   "id": "c36b004b-07ea-4e88-ad91-570eced7eae3",
   "metadata": {},
   "outputs": [],
   "source": [
    "df['Weekday'] = df['date'].dt.day_name()"
   ]
  },
  {
   "cell_type": "code",
   "execution_count": 61,
   "id": "05fa9694-42d7-4021-a79e-42327bdaa4c4",
   "metadata": {},
   "outputs": [
    {
     "data": {
      "text/html": [
       "<div>\n",
       "<style scoped>\n",
       "    .dataframe tbody tr th:only-of-type {\n",
       "        vertical-align: middle;\n",
       "    }\n",
       "\n",
       "    .dataframe tbody tr th {\n",
       "        vertical-align: top;\n",
       "    }\n",
       "\n",
       "    .dataframe thead th {\n",
       "        text-align: right;\n",
       "    }\n",
       "</style>\n",
       "<table border=\"1\" class=\"dataframe\">\n",
       "  <thead>\n",
       "    <tr style=\"text-align: right;\">\n",
       "      <th></th>\n",
       "      <th>date</th>\n",
       "      <th>Weekday</th>\n",
       "    </tr>\n",
       "  </thead>\n",
       "  <tbody>\n",
       "    <tr>\n",
       "      <th>0</th>\n",
       "      <td>2023-01-01</td>\n",
       "      <td>Sunday</td>\n",
       "    </tr>\n",
       "    <tr>\n",
       "      <th>1</th>\n",
       "      <td>2023-01-02</td>\n",
       "      <td>Monday</td>\n",
       "    </tr>\n",
       "    <tr>\n",
       "      <th>2</th>\n",
       "      <td>2023-01-03</td>\n",
       "      <td>Tuesday</td>\n",
       "    </tr>\n",
       "    <tr>\n",
       "      <th>3</th>\n",
       "      <td>2023-01-04</td>\n",
       "      <td>Wednesday</td>\n",
       "    </tr>\n",
       "    <tr>\n",
       "      <th>4</th>\n",
       "      <td>2023-01-05</td>\n",
       "      <td>Thursday</td>\n",
       "    </tr>\n",
       "  </tbody>\n",
       "</table>\n",
       "</div>"
      ],
      "text/plain": [
       "        date    Weekday\n",
       "0 2023-01-01     Sunday\n",
       "1 2023-01-02     Monday\n",
       "2 2023-01-03    Tuesday\n",
       "3 2023-01-04  Wednesday\n",
       "4 2023-01-05   Thursday"
      ]
     },
     "execution_count": 61,
     "metadata": {},
     "output_type": "execute_result"
    }
   ],
   "source": [
    "df"
   ]
  },
  {
   "cell_type": "markdown",
   "id": "48e81a9f-23e5-47b5-88b9-76d4a9197da3",
   "metadata": {},
   "source": [
    "# ANS = 12"
   ]
  },
  {
   "cell_type": "code",
   "execution_count": 67,
   "id": "130d1a65-09fc-4295-9b46-baf492e76917",
   "metadata": {},
   "outputs": [],
   "source": [
    "dates = ['2023-01-01', '2023-01-02', '2023-01-03', '2023-01-04', '2023-01-05']\n",
    "\n",
    "df = pd.DataFrame({'Date': pd.to_datetime(dates)})\n",
    "start_date = '2023-01-01'\n",
    "end_date = '2023-01-31'\n",
    "mask = (df['Date'] >= start_date) & (df['Date'] <= end_date)\n",
    "selected_rows = df.loc[mask]\n",
    "    "
   ]
  },
  {
   "cell_type": "code",
   "execution_count": 69,
   "id": "f68da402-7a50-4401-b56c-a517da7fa339",
   "metadata": {},
   "outputs": [
    {
     "data": {
      "text/html": [
       "<div>\n",
       "<style scoped>\n",
       "    .dataframe tbody tr th:only-of-type {\n",
       "        vertical-align: middle;\n",
       "    }\n",
       "\n",
       "    .dataframe tbody tr th {\n",
       "        vertical-align: top;\n",
       "    }\n",
       "\n",
       "    .dataframe thead th {\n",
       "        text-align: right;\n",
       "    }\n",
       "</style>\n",
       "<table border=\"1\" class=\"dataframe\">\n",
       "  <thead>\n",
       "    <tr style=\"text-align: right;\">\n",
       "      <th></th>\n",
       "      <th>Date</th>\n",
       "    </tr>\n",
       "  </thead>\n",
       "  <tbody>\n",
       "    <tr>\n",
       "      <th>0</th>\n",
       "      <td>2023-01-01</td>\n",
       "    </tr>\n",
       "    <tr>\n",
       "      <th>1</th>\n",
       "      <td>2023-01-02</td>\n",
       "    </tr>\n",
       "    <tr>\n",
       "      <th>2</th>\n",
       "      <td>2023-01-03</td>\n",
       "    </tr>\n",
       "    <tr>\n",
       "      <th>3</th>\n",
       "      <td>2023-01-04</td>\n",
       "    </tr>\n",
       "    <tr>\n",
       "      <th>4</th>\n",
       "      <td>2023-01-05</td>\n",
       "    </tr>\n",
       "  </tbody>\n",
       "</table>\n",
       "</div>"
      ],
      "text/plain": [
       "        Date\n",
       "0 2023-01-01\n",
       "1 2023-01-02\n",
       "2 2023-01-03\n",
       "3 2023-01-04\n",
       "4 2023-01-05"
      ]
     },
     "execution_count": 69,
     "metadata": {},
     "output_type": "execute_result"
    }
   ],
   "source": [
    "selected_rows"
   ]
  },
  {
   "cell_type": "code",
   "execution_count": 70,
   "id": "aa5be633-d206-4db9-a6f9-ae07df42ef64",
   "metadata": {},
   "outputs": [],
   "source": [
    "# ANS = 13\n"
   ]
  },
  {
   "cell_type": "code",
   "execution_count": 71,
   "id": "869092c5-67de-4032-b4e1-3238dc71de58",
   "metadata": {},
   "outputs": [
    {
     "data": {
      "text/plain": [
       "'\\nhe first and foremost library that needs to be imported to use the basic functions\\nof pandas is the pandas library itself.\\n\\n'"
      ]
     },
     "execution_count": 71,
     "metadata": {},
     "output_type": "execute_result"
    }
   ],
   "source": [
    "\"\"\"\n",
    "he first and foremost library that needs to be imported to use the basic functions\n",
    "of pandas is the pandas library itself.\n",
    "\n",
    "\"\"\""
   ]
  },
  {
   "cell_type": "code",
   "execution_count": null,
   "id": "20d9136b-3261-461d-ba3e-d47d59b312b9",
   "metadata": {},
   "outputs": [],
   "source": []
  }
 ],
 "metadata": {
  "kernelspec": {
   "display_name": "Python 3 (ipykernel)",
   "language": "python",
   "name": "python3"
  },
  "language_info": {
   "codemirror_mode": {
    "name": "ipython",
    "version": 3
   },
   "file_extension": ".py",
   "mimetype": "text/x-python",
   "name": "python",
   "nbconvert_exporter": "python",
   "pygments_lexer": "ipython3",
   "version": "3.10.8"
  }
 },
 "nbformat": 4,
 "nbformat_minor": 5
}
