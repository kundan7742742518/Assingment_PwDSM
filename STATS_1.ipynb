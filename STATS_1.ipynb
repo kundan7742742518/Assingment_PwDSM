{
 "cells": [
  {
   "cell_type": "code",
   "execution_count": 7,
   "id": "4cd56175-af29-4f39-ba4e-e4d74cf1586b",
   "metadata": {},
   "outputs": [],
   "source": [
    "# ANS = 1"
   ]
  },
  {
   "cell_type": "code",
   "execution_count": 8,
   "id": "fc6bc5f8-db32-41b9-bf10-f54bd6fe6abf",
   "metadata": {},
   "outputs": [
    {
     "data": {
      "text/plain": [
       "'\\nStatistics :- Statistics is the science of collecting and organizing and analyzing data.\\n'"
      ]
     },
     "execution_count": 8,
     "metadata": {},
     "output_type": "execute_result"
    }
   ],
   "source": [
    "\"\"\"\n",
    "Statistics :- Statistics is the science of collecting and organizing and analyzing data.\n",
    "\"\"\""
   ]
  },
  {
   "cell_type": "code",
   "execution_count": 9,
   "id": "c5df2060-72f1-4694-aeb5-abdc5d28b76e",
   "metadata": {},
   "outputs": [],
   "source": [
    "# ANS =2"
   ]
  },
  {
   "cell_type": "code",
   "execution_count": 10,
   "id": "a9b0e373-59ab-4760-95d5-07d55bf5bb4e",
   "metadata": {},
   "outputs": [
    {
     "data": {
      "text/plain": [
       "'\\nStatistics is the diffrentiat in two kind of things (1) Descriptve (2) Infrential \\n\\n(1) Descriptve :- It consist of orgenizing and summarizing data\\n(2) Infrential :- It consist of using data. you have measured to form conclusion   \\n\\n'"
      ]
     },
     "execution_count": 10,
     "metadata": {},
     "output_type": "execute_result"
    }
   ],
   "source": [
    "\"\"\"\n",
    "Statistics is the diffrentiat in two kind of things (1) Descriptve (2) Infrential \n",
    "\n",
    "(1) Descriptve :- It consist of orgenizing and summarizing data\n",
    "(2) Infrential :- It consist of using data. you have measured to form conclusion   \n",
    "\n",
    "\"\"\""
   ]
  },
  {
   "cell_type": "code",
   "execution_count": 11,
   "id": "c5e7e29a-bcaf-4170-93e9-862c4d0f4882",
   "metadata": {},
   "outputs": [],
   "source": [
    "# ANS= 3"
   ]
  },
  {
   "cell_type": "code",
   "execution_count": 12,
   "id": "46dbaa7d-f32e-4a2b-870b-06ea87972265",
   "metadata": {},
   "outputs": [
    {
     "data": {
      "text/plain": [
       "'\\nwe have seen two types of data (1) Quantitative (2) Qualitative \\n(1) Quantitative :- This kind of data diffrentiate in two types of data (1) Discrite (2) countinuous  \\n(A) Discrite :- Hight , Weight , Speed \\n(B) Continuous :- No. of bank account , No.of childern in family\\n\\n(2) Qualitative:- this data called as cetegorical data also (1) Nominal (2) Ordinal \\n\\n(A)Nominal :- Male , Female ,Blood Group \\n(B) Ordinal :- good , Bed ,  \\n'"
      ]
     },
     "execution_count": 12,
     "metadata": {},
     "output_type": "execute_result"
    }
   ],
   "source": [
    "\"\"\"\n",
    "we have seen two types of data (1) Quantitative (2) Qualitative \n",
    "(1) Quantitative :- This kind of data diffrentiate in two types of data (1) Discrite (2) countinuous  \n",
    "(A) Discrite :- Hight , Weight , Speed \n",
    "(B) Continuous :- No. of bank account , No.of childern in family\n",
    "\n",
    "(2) Qualitative:- this data called as cetegorical data also (1) Nominal (2) Ordinal \n",
    "\n",
    "(A)Nominal :- Male , Female ,Blood Group \n",
    "(B) Ordinal :- good , Bed ,  \n",
    "\"\"\""
   ]
  },
  {
   "cell_type": "code",
   "execution_count": 13,
   "id": "47c0b72a-a390-48b2-8d3c-4282cf135a71",
   "metadata": {},
   "outputs": [],
   "source": [
    "# ANS -= 4"
   ]
  },
  {
   "cell_type": "code",
   "execution_count": 15,
   "id": "e958b141-b7df-41d0-be78-9cc3c5e00962",
   "metadata": {},
   "outputs": [
    {
     "data": {
      "text/plain": [
       "'(1) Ordinal data \\n(2) Nominal data \\n(3) Continuous data \\n(4) Discrite data '"
      ]
     },
     "execution_count": 15,
     "metadata": {},
     "output_type": "execute_result"
    }
   ],
   "source": [
    "\"\"\"(1) Ordinal data \n",
    "(2) Nominal data \n",
    "(3) Continuous data \n",
    "(4) Discrite data \"\"\""
   ]
  },
  {
   "cell_type": "code",
   "execution_count": 16,
   "id": "05148719-653c-460c-8087-e233885162f7",
   "metadata": {},
   "outputs": [],
   "source": [
    "# ANS = 5"
   ]
  },
  {
   "cell_type": "code",
   "execution_count": 17,
   "id": "2ef40e51-d906-4ebd-942c-536546ffbfad",
   "metadata": {},
   "outputs": [
    {
     "data": {
      "text/plain": [
       "'\\nLevels of measurement, also called scales of measurement, \\ntell you how precisely variables are recorded. In scientific research, \\na variable is anything that can take on different values across your data set \\n\\nNominal: the data can only be categorized(City of birth\\nGender\\nEthnicity)\\nOrdinal: the data can be categorized and ranked(Top 5 Olympic medallists\\nLanguage ability (e.g., beginner, intermediate, fluent))\\nInterval: the data can be categorized, ranked, and evenly spaced(Test scores (e.g., IQ or exams))\\nRatio: the data can be categorized, ranked, evenly spaced, and has a natural zero(Height\\nAge\\nWeight\\nTemperature in Kelvin).\\n\\n'"
      ]
     },
     "execution_count": 17,
     "metadata": {},
     "output_type": "execute_result"
    }
   ],
   "source": [
    "\"\"\"\n",
    "Levels of measurement, also called scales of measurement, \n",
    "tell you how precisely variables are recorded. In scientific research, \n",
    "a variable is anything that can take on different values across your data set \n",
    "\n",
    "Nominal: the data can only be categorized(City of birth\n",
    "Gender\n",
    "Ethnicity)\n",
    "Ordinal: the data can be categorized and ranked(Top 5 Olympic medallists\n",
    "Language ability (e.g., beginner, intermediate, fluent))\n",
    "Interval: the data can be categorized, ranked, and evenly spaced(Test scores (e.g., IQ or exams))\n",
    "Ratio: the data can be categorized, ranked, evenly spaced, and has a natural zero(Height\n",
    "Age\n",
    "Weight\n",
    "Temperature in Kelvin).\n",
    "\n",
    "\"\"\""
   ]
  },
  {
   "cell_type": "code",
   "execution_count": 18,
   "id": "807cc517-4ae0-4cae-b540-38725df343d5",
   "metadata": {},
   "outputs": [],
   "source": [
    "# ANS = 6"
   ]
  },
  {
   "cell_type": "code",
   "execution_count": 21,
   "id": "3eb859e0-75a1-429e-9e0b-8e5b87f1ba08",
   "metadata": {},
   "outputs": [
    {
     "data": {
      "text/plain": [
       "'\\nThe level of measurment is importent becouse though the scale of mesurment we diffrentiate \\nthd data in diffrent form of scale like :- we undustent the river data this data is ordinal data \\naccirding to my undustending.\\n'"
      ]
     },
     "execution_count": 21,
     "metadata": {},
     "output_type": "execute_result"
    }
   ],
   "source": [
    "\"\"\"\n",
    "The level of measurment is importent becouse though the scale of mesurment we diffrentiate \n",
    "thd data in diffrent form of scale like :- we undustent the river data this data is ordinal data \n",
    "accirding to my undustending.\n",
    "\"\"\""
   ]
  },
  {
   "cell_type": "code",
   "execution_count": 22,
   "id": "bc709827-cecd-4c33-a404-11d4d3354f7e",
   "metadata": {},
   "outputs": [],
   "source": [
    "# ANS  = 7"
   ]
  },
  {
   "cell_type": "code",
   "execution_count": 23,
   "id": "966c30e2-59cb-4158-b360-f75a4c429aac",
   "metadata": {},
   "outputs": [
    {
     "data": {
      "text/plain": [
       "'\\nThe Nominal data type is order does not matter \\nthey have qualitative variable \\n\\nThe ordinal data types order matter \\nbut we cannot measure difference \\n'"
      ]
     },
     "execution_count": 23,
     "metadata": {},
     "output_type": "execute_result"
    }
   ],
   "source": [
    "\"\"\"\n",
    "The Nominal data type is order does not matter \n",
    "they have qualitative variable \n",
    "\n",
    "The ordinal data types order matter \n",
    "but we cannot measure difference \n",
    "\"\"\""
   ]
  },
  {
   "cell_type": "code",
   "execution_count": 24,
   "id": "a197528c-1762-4f94-90a8-a81ba85e1809",
   "metadata": {},
   "outputs": [],
   "source": [
    "# ANS = 8"
   ]
  },
  {
   "cell_type": "code",
   "execution_count": 25,
   "id": "dfdc2e3f-4359-4b3f-a2f6-f18d82d68917",
   "metadata": {},
   "outputs": [
    {
     "data": {
      "text/plain": [
       "'\\nA box plot or a box-and-whisker plot is a type of plot that can be used to display data in terms of range. Box plots are commonly used in statistics and data analysis to display the distribution of a dataset along with its minimum and maximum values, quartiles, and outliers.\\n\\nThe box of the plot represents the interquartile range (IQR), which is the range between the first quartile (Q1) and the third quartile (Q3) of the data. The whiskers of the plot extend from the box to show the range of the data outside of the IQR, up to a certain distance (usually 1.5 times the IQR) or to the maximum and minimum values of the data.\\n\\nBox plots can be useful for comparing the distribution of different groups or datasets and identifying any outliers or extreme values. They can also be used to detect skewness or asymmetry in the data.\\n'"
      ]
     },
     "execution_count": 25,
     "metadata": {},
     "output_type": "execute_result"
    }
   ],
   "source": [
    "\"\"\"\n",
    "A box plot or a box-and-whisker plot is a type of plot that can be used to display data in terms of range. Box plots are commonly used in statistics and data analysis to display the distribution of a dataset along with its minimum and maximum values, quartiles, and outliers.\n",
    "\n",
    "The box of the plot represents the interquartile range (IQR), which is the range between the first quartile (Q1) and the third quartile (Q3) of the data. The whiskers of the plot extend from the box to show the range of the data outside of the IQR, up to a certain distance (usually 1.5 times the IQR) or to the maximum and minimum values of the data.\n",
    "\n",
    "Box plots can be useful for comparing the distribution of different groups or datasets and identifying any outliers or extreme values. They can also be used to detect skewness or asymmetry in the data.\n",
    "\"\"\""
   ]
  },
  {
   "cell_type": "code",
   "execution_count": 26,
   "id": "603f9709-11e7-4683-a678-e4666f7a8e63",
   "metadata": {},
   "outputs": [],
   "source": [
    "# ANS = 9"
   ]
  },
  {
   "cell_type": "code",
   "execution_count": 28,
   "id": "5e795c0c-c8bd-49e2-b50e-a612d551c0d4",
   "metadata": {},
   "outputs": [
    {
     "data": {
      "text/plain": [
       "'\\nDescriptive statistics is used to summarize and describe the main features of a dataset. It involves the use of measures such as the mean, median, mode, standard deviation, and range to provide a numerical summary of the data. Descriptive statistics can be used to describe the central tendency, dispersion, and shape of the data.\\nExamle:-\\nFor example, if we collect data on the ages of a group of people, we can use descriptive statistics to calculate the mean, median, and standard deviation of the ages to get a sense of the typical age range of the group, the spread of ages, and whether the distribution of ages is symmetric or skewed.\\n\\n\\nIn contrast, inferential statistics is used to make predictions or draw conclusions about a population based on a sample of data. It involves the use of hypothesis testing, confidence intervals, and regression analysis to make inferences about the population parameters from the sample data.\\nExamlle :-\\nFor example, if we are interested in knowing whether a new drug is effective in reducing blood pressure, we could conduct a randomized controlled trial with a sample of patients and use inferential statistics to test whether the reduction in blood pressure seen in the sample is statistically significant and can be attributed to the drug, or if it is due to chance.\\n\\nIn summary, descriptive statistics is used to summarize and describe a dataset, while inferential statistics is used to make predictions or draw conclusions about a population based on a sample of data. Both types of statistics are important in different ways for analyzing and interpreting data.\\n'"
      ]
     },
     "execution_count": 28,
     "metadata": {},
     "output_type": "execute_result"
    }
   ],
   "source": [
    "\"\"\"\n",
    "Descriptive statistics is used to summarize and describe the main features of a dataset. It involves the use of measures such as the mean, median, mode, standard deviation, and range to provide a numerical summary of the data. Descriptive statistics can be used to describe the central tendency, dispersion, and shape of the data.\n",
    "Examle:-\n",
    "For example, if we collect data on the ages of a group of people, we can use descriptive statistics to calculate the mean, median, and standard deviation of the ages to get a sense of the typical age range of the group, the spread of ages, and whether the distribution of ages is symmetric or skewed.\n",
    "\n",
    "\n",
    "In contrast, inferential statistics is used to make predictions or draw conclusions about a population based on a sample of data. It involves the use of hypothesis testing, confidence intervals, and regression analysis to make inferences about the population parameters from the sample data.\n",
    "Examlle :-\n",
    "For example, if we are interested in knowing whether a new drug is effective in reducing blood pressure, we could conduct a randomized controlled trial with a sample of patients and use inferential statistics to test whether the reduction in blood pressure seen in the sample is statistically significant and can be attributed to the drug, or if it is due to chance.\n",
    "\n",
    "In summary, descriptive statistics is used to summarize and describe a dataset, while inferential statistics is used to make predictions or draw conclusions about a population based on a sample of data. Both types of statistics are important in different ways for analyzing and interpreting data.\n",
    "\"\"\""
   ]
  },
  {
   "cell_type": "code",
   "execution_count": 29,
   "id": "98b183ea-488a-4de4-b82c-1c98c5917f4f",
   "metadata": {},
   "outputs": [],
   "source": [
    "# ANS = 10"
   ]
  },
  {
   "cell_type": "code",
   "execution_count": 30,
   "id": "e06b0643-7db7-4cb3-a905-ac2ae17a72a8",
   "metadata": {},
   "outputs": [
    {
     "data": {
      "text/plain": [
       "'\\nMeasures of central tendency are used to describe the typical or central value of a dataset. There are three main measures of central tendency:\\n\\nMean: The mean is the arithmetic average of a dataset. It is calculated by summing all the values in the dataset and dividing by the total number of values. The mean is sensitive to extreme values, which can pull the mean away from the center of the distribution.\\n\\nMedian: The median is the middle value of a dataset. It is calculated by ordering the values from smallest to largest and selecting the value in the middle. The median is less sensitive to extreme values than the mean, making it a more robust measure of central tendency.\\n\\nMode: The mode is the most frequent value in a dataset. It can be useful for identifying the most common value or category in a dataset, especially for categorical data.\\n\\n\\nMeasures of variability are used to describe the spread or dispersion of a dataset. There are several measures of variability:\\n\\nRange: The range is the difference between the maximum and minimum values in a dataset. It provides a rough estimate of the spread of the data.\\n\\nVariance: The variance is the average of the squared differences between each value and the mean of the dataset. It measures how much the values in a dataset vary from the mean.\\n\\nStandard deviation: The standard deviation is the square root of the variance. It provides a measure of the typical distance between each value and the mean of the dataset, and is often used to describe the spread of a dataset.\\n\\nInterquartile range (IQR): The IQR is the difference between the third quartile (Q3) and the first quartile (Q1) of a dataset. It provides a measure of the spread of the middle 50% of the data, and is less sensitive to extreme values than the range.\\n'"
      ]
     },
     "execution_count": 30,
     "metadata": {},
     "output_type": "execute_result"
    }
   ],
   "source": [
    "\"\"\"\n",
    "Measures of central tendency are used to describe the typical or central value of a dataset. There are three main measures of central tendency:\n",
    "\n",
    "Mean: The mean is the arithmetic average of a dataset. It is calculated by summing all the values in the dataset and dividing by the total number of values. The mean is sensitive to extreme values, which can pull the mean away from the center of the distribution.\n",
    "\n",
    "Median: The median is the middle value of a dataset. It is calculated by ordering the values from smallest to largest and selecting the value in the middle. The median is less sensitive to extreme values than the mean, making it a more robust measure of central tendency.\n",
    "\n",
    "Mode: The mode is the most frequent value in a dataset. It can be useful for identifying the most common value or category in a dataset, especially for categorical data.\n",
    "\n",
    "\n",
    "Measures of variability are used to describe the spread or dispersion of a dataset. There are several measures of variability:\n",
    "\n",
    "Range: The range is the difference between the maximum and minimum values in a dataset. It provides a rough estimate of the spread of the data.\n",
    "\n",
    "Variance: The variance is the average of the squared differences between each value and the mean of the dataset. It measures how much the values in a dataset vary from the mean.\n",
    "\n",
    "Standard deviation: The standard deviation is the square root of the variance. It provides a measure of the typical distance between each value and the mean of the dataset, and is often used to describe the spread of a dataset.\n",
    "\n",
    "Interquartile range (IQR): The IQR is the difference between the third quartile (Q3) and the first quartile (Q1) of a dataset. It provides a measure of the spread of the middle 50% of the data, and is less sensitive to extreme values than the range.\n",
    "\"\"\""
   ]
  },
  {
   "cell_type": "code",
   "execution_count": null,
   "id": "c4ea04dd-4694-4526-8ae6-67f502791eb6",
   "metadata": {},
   "outputs": [],
   "source": []
  }
 ],
 "metadata": {
  "kernelspec": {
   "display_name": "Python 3 (ipykernel)",
   "language": "python",
   "name": "python3"
  },
  "language_info": {
   "codemirror_mode": {
    "name": "ipython",
    "version": 3
   },
   "file_extension": ".py",
   "mimetype": "text/x-python",
   "name": "python",
   "nbconvert_exporter": "python",
   "pygments_lexer": "ipython3",
   "version": "3.10.8"
  }
 },
 "nbformat": 4,
 "nbformat_minor": 5
}
