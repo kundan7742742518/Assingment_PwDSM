{
 "cells": [
  {
   "cell_type": "code",
   "execution_count": 1,
   "id": "b10cd26f-5211-4d88-acf8-6cf3063d4f81",
   "metadata": {},
   "outputs": [],
   "source": [
    "# ANS = 1"
   ]
  },
  {
   "cell_type": "code",
   "execution_count": 2,
   "id": "be30248c-336e-4fa4-9638-981ff8e2b03c",
   "metadata": {},
   "outputs": [
    {
     "data": {
      "text/plain": [
       "'\\nThe GET method is used to request data from a specified resource. \\nWhen a client sends a GET request, \\nit retrieves data from the server without making any changes to it. \\nIt is a safe and idempotent method, \\nwhich means that multiple identical requests should have the same effect as a \\nsingle request. GET requests are typically used to retrieve data from a server, such as web pages, images, or other types of media.\\n\\n\\n\\nThe POST method is used to submit an entity,\\nsuch as data or file, to a specified resource\\n, usually a web server, to be processed or stored. \\nWhen a client sends a POST request, it sends data in the request message body.\\nThe server then processes the data and sends a response back to the client.\\nUnlike the GET method, the POST method can modify the state of a resource on the server.\\n'"
      ]
     },
     "execution_count": 2,
     "metadata": {},
     "output_type": "execute_result"
    }
   ],
   "source": [
    "\"\"\"\n",
    "The GET method is used to request data from a specified resource. \n",
    "When a client sends a GET request, \n",
    "it retrieves data from the server without making any changes to it. \n",
    "It is a safe and idempotent method, \n",
    "which means that multiple identical requests should have the same effect as a \n",
    "single request. GET requests are typically used to retrieve data from a server, such as web pages, images, or other types of media.\n",
    "\n",
    "\n",
    "\n",
    "The POST method is used to submit an entity,\n",
    "such as data or file, to a specified resource\n",
    ", usually a web server, to be processed or stored. \n",
    "When a client sends a POST request, it sends data in the request message body.\n",
    "The server then processes the data and sends a response back to the client.\n",
    "Unlike the GET method, the POST method can modify the state of a resource on the server.\n",
    "\"\"\""
   ]
  },
  {
   "cell_type": "code",
   "execution_count": 3,
   "id": "d685ea46-93c2-4e9e-9be2-0a736dcb5d49",
   "metadata": {},
   "outputs": [],
   "source": [
    "# ANS = 2"
   ]
  },
  {
   "cell_type": "code",
   "execution_count": 4,
   "id": "23c26c70-783c-49cd-9d66-8700ea11c026",
   "metadata": {},
   "outputs": [
    {
     "data": {
      "text/plain": [
       "\"\\nrequest is a built-in object in Flask that allows you to access incoming request data. It is used to get the data that a client (e.g., a web browser) sends to a web server when a user interacts with a web page.\\n\\nThe request object provides methods to access different parts of the request, such as the form data, headers, cookies, and files uploaded in a request. With the request object, you can also retrieve the method used for the request, the URL, the client's IP address, and more.\\n\\n\""
      ]
     },
     "execution_count": 4,
     "metadata": {},
     "output_type": "execute_result"
    }
   ],
   "source": [
    "\"\"\"\n",
    "request is a built-in object in Flask that allows you to access incoming request data. It is used to get the data that a client (e.g., a web browser) sends to a web server when a user interacts with a web page.\n",
    "\n",
    "The request object provides methods to access different parts of the request, such as the form data, headers, cookies, and files uploaded in a request. With the request object, you can also retrieve the method used for the request, the URL, the client's IP address, and more.\n",
    "\n",
    "\"\"\""
   ]
  },
  {
   "cell_type": "code",
   "execution_count": 5,
   "id": "44e9d5b0-1635-42d0-ad01-09f69d98f803",
   "metadata": {},
   "outputs": [],
   "source": [
    "# ANS = 3"
   ]
  },
  {
   "cell_type": "code",
   "execution_count": 6,
   "id": "a9b5df69-5116-4a8b-a16f-de22d84efd19",
   "metadata": {},
   "outputs": [
    {
     "data": {
      "text/plain": [
       "'\\nredirect() is a built-in function in Flask that allows you to redirect the user to a different URL or endpoint. It is often used to redirect the user after a form submission or after a successful login.\\n'"
      ]
     },
     "execution_count": 6,
     "metadata": {},
     "output_type": "execute_result"
    }
   ],
   "source": [
    "\"\"\"\n",
    "redirect() is a built-in function in Flask that allows you to redirect the user to a different URL or endpoint. It is often used to redirect the user after a form submission or after a successful login.\n",
    "\"\"\""
   ]
  },
  {
   "cell_type": "code",
   "execution_count": 7,
   "id": "da9e031b-e1b2-47a2-a086-b189dd8917f0",
   "metadata": {},
   "outputs": [],
   "source": [
    "# ANS = 4"
   ]
  },
  {
   "cell_type": "code",
   "execution_count": 8,
   "id": "38186138-f3b5-4999-a5b1-f3cb983e0373",
   "metadata": {},
   "outputs": [
    {
     "data": {
      "text/plain": [
       "\"\\nThe render_template() function is a built-in function in Flask that allows you to render a template and pass data to it. It is used to generate dynamic HTML pages that can display data from a Flask application.\\n\\nWhen you call render_template(), Flask looks for the template file in the templates folder in your application directory. It then loads the template, replaces any placeholders in the template with the data you provide, and returns the rendered HTML to the client's browser.\\n\\n\""
      ]
     },
     "execution_count": 8,
     "metadata": {},
     "output_type": "execute_result"
    }
   ],
   "source": [
    "\"\"\"\n",
    "Templates in Flask are used to generate dynamic HTML pages that can display data from a web application. A template is a file that contains a mixture of HTML and placeholders for dynamic content, such as variables, loops, and conditional statements.\n",
    "\n",
    "\"\"\"\n",
    "\"\"\"\n",
    "The render_template() function is a built-in function in Flask that allows you to render a template and pass data to it. It is used to generate dynamic HTML pages that can display data from a Flask application.\n",
    "\n",
    "When you call render_template(), Flask looks for the template file in the templates folder in your application directory. It then loads the template, replaces any placeholders in the template with the data you provide, and returns the rendered HTML to the client's browser.\n",
    "\n",
    "\"\"\""
   ]
  },
  {
   "cell_type": "code",
   "execution_count": 9,
   "id": "7d9bb6b5-c75b-498c-ab2a-9a3e12f5b27e",
   "metadata": {},
   "outputs": [],
   "source": [
    "# ANS = 5"
   ]
  },
  {
   "cell_type": "code",
   "execution_count": 11,
   "id": "75ec9473-4f40-47d0-89eb-a45a7439941c",
   "metadata": {},
   "outputs": [
    {
     "name": "stdout",
     "output_type": "stream",
     "text": [
      "Collecting flask\n",
      "  Downloading Flask-2.2.3-py3-none-any.whl (101 kB)\n",
      "\u001b[2K     \u001b[90m━━━━━━━━━━━━━━━━━━━━━━━━━━━━━━━━━━━━━━━\u001b[0m \u001b[32m101.8/101.8 kB\u001b[0m \u001b[31m5.2 MB/s\u001b[0m eta \u001b[36m0:00:00\u001b[0m\n",
      "\u001b[?25hCollecting Werkzeug>=2.2.2\n",
      "  Downloading Werkzeug-2.2.3-py3-none-any.whl (233 kB)\n",
      "\u001b[2K     \u001b[90m━━━━━━━━━━━━━━━━━━━━━━━━━━━━━━━━━━━━━━\u001b[0m \u001b[32m233.6/233.6 kB\u001b[0m \u001b[31m20.3 MB/s\u001b[0m eta \u001b[36m0:00:00\u001b[0m\n",
      "\u001b[?25hRequirement already satisfied: click>=8.0 in /opt/conda/lib/python3.10/site-packages (from flask) (8.1.3)\n",
      "Collecting itsdangerous>=2.0\n",
      "  Downloading itsdangerous-2.1.2-py3-none-any.whl (15 kB)\n",
      "Requirement already satisfied: Jinja2>=3.0 in /opt/conda/lib/python3.10/site-packages (from flask) (3.1.2)\n",
      "Requirement already satisfied: MarkupSafe>=2.0 in /opt/conda/lib/python3.10/site-packages (from Jinja2>=3.0->flask) (2.1.1)\n",
      "Installing collected packages: Werkzeug, itsdangerous, flask\n",
      "Successfully installed Werkzeug-2.2.3 flask-2.2.3 itsdangerous-2.1.2\n",
      "Note: you may need to restart the kernel to use updated packages.\n"
     ]
    }
   ],
   "source": [
    "pip install flask "
   ]
  },
  {
   "cell_type": "code",
   "execution_count": 12,
   "id": "82f33e86-5fff-4c1a-9e8f-36dec8d0a2c6",
   "metadata": {},
   "outputs": [
    {
     "name": "stdout",
     "output_type": "stream",
     "text": [
      " * Serving Flask app '__main__'\n",
      " * Debug mode: on\n"
     ]
    },
    {
     "name": "stderr",
     "output_type": "stream",
     "text": [
      "WARNING: This is a development server. Do not use it in a production deployment. Use a production WSGI server instead.\n",
      " * Running on http://127.0.0.1:5000\n",
      "Press CTRL+C to quit\n",
      " * Restarting with stat\n",
      "Traceback (most recent call last):\n",
      "  File \"/opt/conda/lib/python3.10/site-packages/ipykernel_launcher.py\", line 17, in <module>\n",
      "    app.launch_new_instance()\n",
      "  File \"/opt/conda/lib/python3.10/site-packages/traitlets/config/application.py\", line 991, in launch_instance\n",
      "    app.initialize(argv)\n",
      "  File \"/opt/conda/lib/python3.10/site-packages/traitlets/config/application.py\", line 113, in inner\n",
      "    return method(app, *args, **kwargs)\n",
      "  File \"/opt/conda/lib/python3.10/site-packages/ipykernel/kernelapp.py\", line 665, in initialize\n",
      "    self.init_sockets()\n",
      "  File \"/opt/conda/lib/python3.10/site-packages/ipykernel/kernelapp.py\", line 309, in init_sockets\n",
      "    self.shell_port = self._bind_socket(self.shell_socket, self.shell_port)\n",
      "  File \"/opt/conda/lib/python3.10/site-packages/ipykernel/kernelapp.py\", line 246, in _bind_socket\n",
      "    return self._try_bind_socket(s, port)\n",
      "  File \"/opt/conda/lib/python3.10/site-packages/ipykernel/kernelapp.py\", line 222, in _try_bind_socket\n",
      "    s.bind(\"tcp://%s:%i\" % (self.ip, port))\n",
      "  File \"/opt/conda/lib/python3.10/site-packages/zmq/sugar/socket.py\", line 232, in bind\n",
      "    super().bind(addr)\n",
      "  File \"zmq/backend/cython/socket.pyx\", line 568, in zmq.backend.cython.socket.Socket.bind\n",
      "  File \"zmq/backend/cython/checkrc.pxd\", line 28, in zmq.backend.cython.checkrc._check_rc\n",
      "zmq.error.ZMQError: Address already in use\n"
     ]
    },
    {
     "ename": "SystemExit",
     "evalue": "1",
     "output_type": "error",
     "traceback": [
      "An exception has occurred, use %tb to see the full traceback.\n",
      "\u001b[0;31mSystemExit\u001b[0m\u001b[0;31m:\u001b[0m 1\n"
     ]
    },
    {
     "name": "stderr",
     "output_type": "stream",
     "text": [
      "/opt/conda/lib/python3.10/site-packages/IPython/core/interactiveshell.py:3441: UserWarning: To exit: use 'exit', 'quit', or Ctrl-D.\n",
      "  warn(\"To exit: use 'exit', 'quit', or Ctrl-D.\", stacklevel=1)\n"
     ]
    }
   ],
   "source": [
    "from flask import Flask\n",
    "\n",
    "app = Flask(__name__)\n",
    "\n",
    "@app.route('/')\n",
    "def hello_world():\n",
    "    dic = {'Hello': ['Hello sir how are you'], 'Kundan': ['hello jai shree ram']}\n",
    "\n",
    "    return dic\n",
    "\n",
    "if __name__ == '__main__':\n",
    "    app.run(debug=True)\n"
   ]
  },
  {
   "cell_type": "code",
   "execution_count": null,
   "id": "56b99f21-2c07-4ab6-b54d-49bf2b3c87a2",
   "metadata": {},
   "outputs": [],
   "source": [
    "{\n",
    "    \"Hello\": [\n",
    "        \"Hello sir how are you\"\n",
    "    ],\n",
    "    \"Kundan\": [\n",
    "        \"hello jai shree ram\"\n",
    "    ]\n",
    "}\n",
    "\n",
    "# I get answer from postman"
   ]
  }
 ],
 "metadata": {
  "kernelspec": {
   "display_name": "Python 3 (ipykernel)",
   "language": "python",
   "name": "python3"
  },
  "language_info": {
   "codemirror_mode": {
    "name": "ipython",
    "version": 3
   },
   "file_extension": ".py",
   "mimetype": "text/x-python",
   "name": "python",
   "nbconvert_exporter": "python",
   "pygments_lexer": "ipython3",
   "version": "3.10.8"
  }
 },
 "nbformat": 4,
 "nbformat_minor": 5
}
