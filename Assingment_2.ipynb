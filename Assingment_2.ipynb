{
 "cells": [
  {
   "cell_type": "markdown",
   "id": "ca193c55-8332-412e-970d-0c86e8c20fff",
   "metadata": {},
   "source": [
    "# Ans 1"
   ]
  },
  {
   "cell_type": "code",
   "execution_count": 1,
   "id": "15abfd8b-4667-481a-8af8-3152d0ff4efb",
   "metadata": {},
   "outputs": [],
   "source": [
    "marks = float(input(\"Enter a percentage:- \"))\n",
    "# i used here a float becouse percentage are (.) entity\n",
    "if marks > 90:\n",
    "    print(\"Grad:-A\")\n",
    "elif marks > 80 and marks <= 90:\n",
    "    print(\"Grad:- B\")\n",
    "elif marks >= 60 and marks <= 80:\n",
    "    print(\"Grad:- C\")\n",
    "else:\n",
    "    print(\"D\")"
   ]
  },
  {
   "cell_type": "markdown",
   "id": "272afd14-0fa7-475b-bafe-3fc65fd983d8",
   "metadata": {},
   "source": [
    "# Ans 2"
   ]
  },
  {
   "cell_type": "code",
   "execution_count": 2,
   "id": "34c793b3-d932-40fe-b41e-e819027314aa",
   "metadata": {},
   "outputs": [],
   "source": [
    "cost_price = int(input(\"Enter a cost:-\"))\n",
    "if cost_price > 100000:\n",
    "    print(f\"The road tax of bike:-{cost_price*0.15}\")\n",
    "elif cost_price > 50000 and cost_price <= 100000:\n",
    "    print(f\"The road tax of bike:-{cost_price*0.1}\")\n",
    "elif cost_price <= 50000:\n",
    "    print(f\"The road tax of bike:-{cost_price*0.05}\")\n",
    "else:\n",
    "    print(\"hello\")\n",
    "   "
   ]
  },
  {
   "cell_type": "markdown",
   "id": "3065c223-2df0-4a68-ac37-cd49a180aa60",
   "metadata": {},
   "source": [
    "# Ans3"
   ]
  },
  {
   "cell_type": "code",
   "execution_count": 3,
   "id": "b133fa4e-c016-4ec3-93a9-4f2559b31571",
   "metadata": {},
   "outputs": [],
   "source": [
    "city = input(\"Enter a city name :-\")\n",
    "if city == \"delhi\":\n",
    "    print(\"Red fort\")\n",
    "elif city == \"agra\":\n",
    "    print(\"Taj mahal\")\n",
    "elif city == \"jaipur\":\n",
    "    print(\"Jal mahal\")\n",
    "else:\n",
    "    print(\"Thank u\")\n",
    "\n",
    "\n",
    "\n",
    "    "
   ]
  },
  {
   "cell_type": "markdown",
   "id": "06bc931f-1483-4b03-bba7-c37efd18f453",
   "metadata": {},
   "source": [
    "# Ans 4"
   ]
  },
  {
   "cell_type": "code",
   "execution_count": 4,
   "id": "70d55bd3-587b-4d60-b4ca-1d08b8ab3e10",
   "metadata": {},
   "outputs": [],
   "source": [
    "num = int(input(\"Enter a number:-\"))\n",
    "count = 0\n",
    "while num >10:\n",
    "    num = num/3\n",
    "    count+=1\n",
    "print(count)"
   ]
  },
  {
   "cell_type": "markdown",
   "id": "e8c85430-cf38-432c-9332-b5272f7362cb",
   "metadata": {},
   "source": [
    "# Ans 5 "
   ]
  },
  {
   "cell_type": "code",
   "execution_count": 5,
   "id": "6a9666fa-4940-4392-a254-38b17f8b376f",
   "metadata": {},
   "outputs": [
    {
     "data": {
      "text/plain": [
       "'\\nWith the while loop we can execute a set of statements as long as a condition is true.\\nThe while loop requires relevant variables to be ready, \\nin this example we need to define an indexing variable, i, which we set to 1.\\nWith the break statement we can stop the loop even if the while condition is true\\n'"
      ]
     },
     "execution_count": 5,
     "metadata": {},
     "output_type": "execute_result"
    }
   ],
   "source": [
    "\"\"\"\n",
    "With the while loop we can execute a set of statements as long as a condition is true.\n",
    "The while loop requires relevant variables to be ready, \n",
    "in this example we need to define an indexing variable, i, which we set to 1.\n",
    "With the break statement we can stop the loop even if the while condition is true\n",
    "\"\"\"\n",
    "i = 1\n",
    "while i < 6:\n",
    "    print(i)\n",
    "    i += 1"
   ]
  },
  {
   "cell_type": "markdown",
   "id": "d33617b5-400b-4d70-85a0-a29c81099da4",
   "metadata": {},
   "source": [
    "# Ans 6"
   ]
  },
  {
   "cell_type": "code",
   "execution_count": 8,
   "id": "0d191341-824c-41c4-884c-47f18d3636f2",
   "metadata": {},
   "outputs": [],
   "source": [
    "num = int(input(\"Enter:-\"))\n",
    "i = 0\n",
    "while i < num :\n",
    "    j = 0\n",
    "    while j < i:\n",
    "        print(\"*\", end = \" \")\n",
    "        j+=1\n",
    "    print()\n",
    "    i+=1\n",
    "    \n"
   ]
  },
  {
   "cell_type": "code",
   "execution_count": 2,
   "id": "76d330a1-defb-44a3-a5a5-b64fbefeb808",
   "metadata": {},
   "outputs": [],
   "source": [
    "num = int(input(\"Enter a number :-\"))\n",
    "k = 1\n",
    "i = 1\n",
    "while i <= num:\n",
    "    b = 1\n",
    "    while b <= num-i:\n",
    "        print(\" \", end = \" \")\n",
    "        b = b+1\n",
    "    j = 1\n",
    "    while j <= k:\n",
    "        print(\"*\", end = \" \")\n",
    "        j = j+1\n",
    "    k = k+2\n",
    "    print()\n",
    "    i = i+1"
   ]
  },
  {
   "cell_type": "code",
   "execution_count": 4,
   "id": "fb376c89-3418-4dbc-94e3-ed59315dcc5e",
   "metadata": {},
   "outputs": [],
   "source": [
    "n = 5   \n",
    "i = 1 \n",
    "while n > 0:\n",
    "    j = 1 \n",
    "    while j < n:\n",
    "        print(\"*\",end = \"\")\n",
    "        j = j+1\n",
    "    print()\n",
    "    n = n-1\n",
    "    i = i+1  "
   ]
  },
  {
   "cell_type": "markdown",
   "id": "3afbcda6-6b53-4a44-95de-604f8345f61c",
   "metadata": {},
   "source": [
    "# ANS = 7"
   ]
  },
  {
   "cell_type": "code",
   "execution_count": 5,
   "id": "2ed44d26-e1e5-4925-a074-76e4b55b4c96",
   "metadata": {},
   "outputs": [
    {
     "name": "stdout",
     "output_type": "stream",
     "text": [
      "10\n",
      "9\n",
      "8\n",
      "7\n",
      "6\n",
      "5\n",
      "4\n",
      "3\n",
      "2\n",
      "1\n"
     ]
    }
   ],
   "source": [
    "i = 10\n",
    "while i > 0:\n",
    "    print(i)\n",
    "    i-=1 "
   ]
  },
  {
   "cell_type": "markdown",
   "id": "7dfd1315-99ad-42a5-9067-1a497855deb9",
   "metadata": {},
   "source": [
    "# ANS= 8"
   ]
  },
  {
   "cell_type": "code",
   "execution_count": 6,
   "id": "35f7a103-d1f0-477e-847c-f4c9c20b22b6",
   "metadata": {},
   "outputs": [
    {
     "name": "stdout",
     "output_type": "stream",
     "text": [
      "10\n",
      "9\n",
      "8\n",
      "7\n",
      "6\n",
      "5\n",
      "4\n",
      "3\n",
      "2\n",
      "1\n"
     ]
    }
   ],
   "source": [
    "i = 10\n",
    "while i > 0:\n",
    "    print(i)\n",
    "    i-=1 "
   ]
  },
  {
   "cell_type": "code",
   "execution_count": null,
   "id": "b695fdfb-1af3-4fdb-95a4-f9e054cd0b34",
   "metadata": {},
   "outputs": [],
   "source": []
  }
 ],
 "metadata": {
  "kernelspec": {
   "display_name": "Python 3 (ipykernel)",
   "language": "python",
   "name": "python3"
  },
  "language_info": {
   "codemirror_mode": {
    "name": "ipython",
    "version": 3
   },
   "file_extension": ".py",
   "mimetype": "text/x-python",
   "name": "python",
   "nbconvert_exporter": "python",
   "pygments_lexer": "ipython3",
   "version": "3.10.8"
  }
 },
 "nbformat": 4,
 "nbformat_minor": 5
}
