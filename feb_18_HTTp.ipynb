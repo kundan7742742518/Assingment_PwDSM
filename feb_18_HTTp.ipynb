{
 "cells": [
  {
   "cell_type": "markdown",
   "id": "6eb77553-755d-467d-a6c1-cd9e459414a5",
   "metadata": {},
   "source": [
    "# ANS = 1"
   ]
  },
  {
   "cell_type": "code",
   "execution_count": 3,
   "id": "d86b31cb-22cd-4651-9487-6e08d76e7b90",
   "metadata": {},
   "outputs": [
    {
     "data": {
      "text/plain": [
       "'\\nAPIs are used in web applications to connect user-facing front ends with \\ncritical back-end functionality and data. \\n'"
      ]
     },
     "execution_count": 3,
     "metadata": {},
     "output_type": "execute_result"
    }
   ],
   "source": [
    "\"\"\"APIs are mechanisms that enable two software components to \n",
    "communicate with each other using a \n",
    "set of definitions and protocols. For example, the \n",
    "weather bureau's software system contains daily weather data. \n",
    "The weather app on your phone “talks” to this system\n",
    "via APIs and shows you daily weather updates on your phone.\"\"\"\n",
    "\"\"\"\n",
    "APIs are used in web applications to connect user-facing front ends with \n",
    "critical back-end functionality and data. \n",
    "\"\"\"\n"
   ]
  },
  {
   "cell_type": "markdown",
   "id": "43dc3eb6-c525-485e-a03c-11512dd63010",
   "metadata": {},
   "source": [
    "# ANS = 2"
   ]
  },
  {
   "cell_type": "code",
   "execution_count": 4,
   "id": "a6e5f7bd-37c4-4612-a208-03101175cc59",
   "metadata": {},
   "outputs": [
    {
     "data": {
      "text/plain": [
       "'\\nCreating API is a very time-consuming process.\\nA fixed scale is necessary.\\nMaintenance cost is very high.\\nIt can crash when testing API.\\n'"
      ]
     },
     "execution_count": 4,
     "metadata": {},
     "output_type": "execute_result"
    }
   ],
   "source": [
    "# ADVANTAGE = \n",
    "\"\"\"\n",
    "In general, APIs improve customization by allowing developers to \n",
    "access and use data and functionality from other applications.\n",
    "\"\"\"\n",
    "#DISADVANTAGE := \n",
    "\"\"\"\n",
    "Creating API is a very time-consuming process.\n",
    "A fixed scale is necessary.\n",
    "Maintenance cost is very high.\n",
    "It can crash when testing API.\n",
    "\"\"\""
   ]
  },
  {
   "cell_type": "markdown",
   "id": "c0bfa635-fb56-48b5-a4eb-259889d84610",
   "metadata": {},
   "source": [
    "# ANS = 3 "
   ]
  },
  {
   "cell_type": "code",
   "execution_count": 5,
   "id": "4bbf42ed-b5f6-4b61-ba18-ab01ae711f09",
   "metadata": {},
   "outputs": [
    {
     "data": {
      "text/plain": [
       "\"\\nAPI is an interface that exposes an application's data to outside software, \\nwhereas web applications are one type of API with stricter requirements. \\nThese requirements include network communication, SOAP as the primary protocol, \\nand less accessibility for the public\\n\""
      ]
     },
     "execution_count": 5,
     "metadata": {},
     "output_type": "execute_result"
    }
   ],
   "source": [
    "# A Web API is an application programming interface for the Web\n",
    "\"\"\"\n",
    "API is an interface that exposes an application's data to outside software, \n",
    "whereas web applications are one type of API with stricter requirements. \n",
    "These requirements include network communication, SOAP as the primary protocol, \n",
    "and less accessibility for the public\n",
    "\"\"\""
   ]
  },
  {
   "cell_type": "markdown",
   "id": "8d7cc7ea-f13e-4541-9148-e85792d4aeea",
   "metadata": {},
   "source": [
    "# ANS = 4"
   ]
  },
  {
   "cell_type": "code",
   "execution_count": 7,
   "id": "db5f010d-ce03-45b9-830a-e309624dc9a5",
   "metadata": {},
   "outputs": [
    {
     "data": {
      "text/plain": [
       "'\\nREST :-\\nThe Representational State Transfer (REST) architectural style is a \\nworldview that elevates information into a first-class element of architectures. \\nREST allows us to achieve the architectural properties of performance, scalability,\\ngenerality, simplicity, modifiability, and extensibility.\\nSOAP:-\\nThe SOAP web services architecture is based on interactions between three components:\\na service provider, a service requester, and an optional service registry. \\n\\nshortcoming of soap:-\\nAs SOAP can only transfer messages as XML files, your SOAP API will be less performant,\\n'"
      ]
     },
     "execution_count": 7,
     "metadata": {},
     "output_type": "execute_result"
    }
   ],
   "source": [
    "\"\"\"\n",
    "REST :-\n",
    "The Representational State Transfer (REST) architectural style is a \n",
    "worldview that elevates information into a first-class element of architectures. \n",
    "REST allows us to achieve the architectural properties of performance, scalability,\n",
    "generality, simplicity, modifiability, and extensibility.\n",
    "SOAP:-\n",
    "The SOAP web services architecture is based on interactions between three components:\n",
    "a service provider, a service requester, and an optional service registry. \n",
    "\n",
    "shortcoming of soap:-\n",
    "As SOAP can only transfer messages as XML files, your SOAP API will be less performant,\n",
    "\"\"\""
   ]
  },
  {
   "cell_type": "markdown",
   "id": "573d3d53-c840-4827-a81a-9cb42c90d851",
   "metadata": {},
   "source": [
    "# ans = 5"
   ]
  },
  {
   "cell_type": "code",
   "execution_count": null,
   "id": "02866ae4-b629-46c1-a385-9f6ef9b13810",
   "metadata": {},
   "outputs": [],
   "source": [
    "\"\"\"\n",
    "REST is a set of guidelines that offers flexible implementation, \n",
    "whereas SOAP is a protocol with specific requirements like XML messaging.\n",
    "\"\"\""
   ]
  }
 ],
 "metadata": {
  "kernelspec": {
   "display_name": "Python 3 (ipykernel)",
   "language": "python",
   "name": "python3"
  },
  "language_info": {
   "codemirror_mode": {
    "name": "ipython",
    "version": 3
   },
   "file_extension": ".py",
   "mimetype": "text/x-python",
   "name": "python",
   "nbconvert_exporter": "python",
   "pygments_lexer": "ipython3",
   "version": "3.10.8"
  }
 },
 "nbformat": 4,
 "nbformat_minor": 5
}
