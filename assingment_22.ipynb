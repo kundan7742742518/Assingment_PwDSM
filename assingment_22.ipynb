{
 "cells": [
  {
   "cell_type": "code",
   "execution_count": 1,
   "id": "8cc2137f-d050-4976-890b-d6a6384347ba",
   "metadata": {},
   "outputs": [],
   "source": [
    "# CREAT SERIES DATA FRAM "
   ]
  },
  {
   "cell_type": "code",
   "execution_count": 2,
   "id": "45d8b640-799b-4100-9459-3910d0391476",
   "metadata": {},
   "outputs": [],
   "source": [
    "import pandas as pd "
   ]
  },
  {
   "cell_type": "markdown",
   "id": "b5e588b0-7553-4b66-aac8-86f62281ecb0",
   "metadata": {},
   "source": [
    "# ANS = 1"
   ]
  },
  {
   "cell_type": "code",
   "execution_count": 3,
   "id": "d97ebd5c-489a-4065-aaf9-e57b39d1a270",
   "metadata": {},
   "outputs": [],
   "source": [
    "items =[4, 8, 15, 16, 23,  42]\n",
    "df = pd.Series(items)"
   ]
  },
  {
   "cell_type": "code",
   "execution_count": 4,
   "id": "25a739e6-ff0a-425c-a99d-4bc191ee7437",
   "metadata": {},
   "outputs": [
    {
     "data": {
      "text/plain": [
       "0     4\n",
       "1     8\n",
       "2    15\n",
       "3    16\n",
       "4    23\n",
       "5    42\n",
       "dtype: int64"
      ]
     },
     "execution_count": 4,
     "metadata": {},
     "output_type": "execute_result"
    }
   ],
   "source": [
    "df"
   ]
  },
  {
   "cell_type": "markdown",
   "id": "ce25141e-e99b-43c3-beca-0a63e092d213",
   "metadata": {},
   "source": [
    "# ANS = 2"
   ]
  },
  {
   "cell_type": "code",
   "execution_count": 5,
   "id": "54625bd8-891a-4b34-b685-80146bf5703a",
   "metadata": {},
   "outputs": [],
   "source": [
    "list_1 = [1,2,3,4,5,6,7,8,9,10]\n",
    "df1  = pd.Series(list_1)"
   ]
  },
  {
   "cell_type": "code",
   "execution_count": 6,
   "id": "03f9896c-df15-4f5c-aaaf-17ae082afe16",
   "metadata": {},
   "outputs": [
    {
     "data": {
      "text/plain": [
       "0     1\n",
       "1     2\n",
       "2     3\n",
       "3     4\n",
       "4     5\n",
       "5     6\n",
       "6     7\n",
       "7     8\n",
       "8     9\n",
       "9    10\n",
       "dtype: int64"
      ]
     },
     "execution_count": 6,
     "metadata": {},
     "output_type": "execute_result"
    }
   ],
   "source": [
    "df1"
   ]
  },
  {
   "cell_type": "markdown",
   "id": "77bc85bb-2779-43c8-9f24-4e3a339887ea",
   "metadata": {},
   "source": [
    "# ANS = 3"
   ]
  },
  {
   "cell_type": "code",
   "execution_count": 7,
   "id": "9c0fbb30-76c6-4b0d-8077-0ccf32345182",
   "metadata": {},
   "outputs": [],
   "source": [
    "data = {\"Name\":['Alice','Bob','Claire'],\n",
    "        \n",
    "        \"age\":[25,30,27],\n",
    "        \n",
    "        \"Gender\":['Female','Male','Female']\n",
    "        }\n",
    "\n",
    "df3 = pd.DataFrame(data)"
   ]
  },
  {
   "cell_type": "code",
   "execution_count": 8,
   "id": "320dd2d1-66a1-4786-9f35-1a1d90a7937d",
   "metadata": {},
   "outputs": [
    {
     "data": {
      "text/html": [
       "<div>\n",
       "<style scoped>\n",
       "    .dataframe tbody tr th:only-of-type {\n",
       "        vertical-align: middle;\n",
       "    }\n",
       "\n",
       "    .dataframe tbody tr th {\n",
       "        vertical-align: top;\n",
       "    }\n",
       "\n",
       "    .dataframe thead th {\n",
       "        text-align: right;\n",
       "    }\n",
       "</style>\n",
       "<table border=\"1\" class=\"dataframe\">\n",
       "  <thead>\n",
       "    <tr style=\"text-align: right;\">\n",
       "      <th></th>\n",
       "      <th>Name</th>\n",
       "      <th>age</th>\n",
       "      <th>Gender</th>\n",
       "    </tr>\n",
       "  </thead>\n",
       "  <tbody>\n",
       "    <tr>\n",
       "      <th>0</th>\n",
       "      <td>Alice</td>\n",
       "      <td>25</td>\n",
       "      <td>Female</td>\n",
       "    </tr>\n",
       "    <tr>\n",
       "      <th>1</th>\n",
       "      <td>Bob</td>\n",
       "      <td>30</td>\n",
       "      <td>Male</td>\n",
       "    </tr>\n",
       "    <tr>\n",
       "      <th>2</th>\n",
       "      <td>Claire</td>\n",
       "      <td>27</td>\n",
       "      <td>Female</td>\n",
       "    </tr>\n",
       "  </tbody>\n",
       "</table>\n",
       "</div>"
      ],
      "text/plain": [
       "     Name  age  Gender\n",
       "0   Alice   25  Female\n",
       "1     Bob   30    Male\n",
       "2  Claire   27  Female"
      ]
     },
     "execution_count": 8,
     "metadata": {},
     "output_type": "execute_result"
    }
   ],
   "source": [
    "df3"
   ]
  },
  {
   "cell_type": "code",
   "execution_count": 9,
   "id": "c8e425c8-ce33-4134-8b5c-e8951894b0fc",
   "metadata": {},
   "outputs": [],
   "source": [
    "df3.to_csv('creat.csv')"
   ]
  },
  {
   "cell_type": "markdown",
   "id": "02af9e4d-fb86-424b-a1b6-777f1d12b414",
   "metadata": {},
   "source": [
    "# ANS = 4"
   ]
  },
  {
   "cell_type": "code",
   "execution_count": 10,
   "id": "1d74e961-a9ea-48f1-9174-9772441f5949",
   "metadata": {},
   "outputs": [
    {
     "data": {
      "text/plain": [
       "'\\nIn Pandas, a DataFrame is a two-dimensional labeled data structure with columns of potentially different data types,\\nsimilar to a spreadsheet or a SQL table. \\nIt is one of the primary data structures in Pandas and allows for easy manipulation and analysis of data.\\n\\nOn the other hand, a Pandas Series is a one-dimensional labeled array capable of holding any data type. \\nIt can be thought of as a single column of a DataFrame.\\n'"
      ]
     },
     "execution_count": 10,
     "metadata": {},
     "output_type": "execute_result"
    }
   ],
   "source": [
    "\"\"\"\n",
    "In Pandas, a DataFrame is a two-dimensional labeled data structure with columns of potentially different data types,\n",
    "similar to a spreadsheet or a SQL table. \n",
    "It is one of the primary data structures in Pandas and allows for easy manipulation and analysis of data.\n",
    "\n",
    "On the other hand, a Pandas Series is a one-dimensional labeled array capable of holding any data type. \n",
    "It can be thought of as a single column of a DataFrame.\n",
    "\"\"\""
   ]
  },
  {
   "cell_type": "code",
   "execution_count": 11,
   "id": "6797b4ca-51b5-4ac4-a6d6-cc3c137c2268",
   "metadata": {},
   "outputs": [
    {
     "name": "stdout",
     "output_type": "stream",
     "text": [
      "Pandas Series:\n",
      "0     apple\n",
      "1    banana\n",
      "2     mango\n",
      "3    grapes\n",
      "dtype: object\n",
      "\n",
      "\n",
      "Pandas DataFrame:\n",
      "    Fruit  Price\n",
      "0   apple      1\n",
      "1  banana      2\n",
      "2   mango      3\n",
      "3  grapes      4\n"
     ]
    }
   ],
   "source": [
    "fruits = pd.Series(['apple', 'banana', 'mango', 'grapes'])\n",
    "\n",
    "# Creating a Pandas DataFrame\n",
    "data = {'Fruit': ['apple', 'banana', 'mango', 'grapes'], 'Price': [1, 2, 3, 4]}\n",
    "df = pd.DataFrame(data)\n",
    "\n",
    "print(\"Pandas Series:\")\n",
    "print(fruits)\n",
    "print(\"\\n\\nPandas DataFrame:\")\n",
    "print(df)"
   ]
  },
  {
   "cell_type": "markdown",
   "id": "d42fef8c-998b-4301-89e6-3d154b75cf35",
   "metadata": {},
   "source": [
    "# ANS = 5"
   ]
  },
  {
   "cell_type": "code",
   "execution_count": 12,
   "id": "b3bc8356-cbd0-4ab8-862e-7385cda41c6d",
   "metadata": {},
   "outputs": [
    {
     "data": {
      "text/plain": [
       "'\\nhead() and tail(): These functions display the first few or last few rows of a DataFrame respectively. For example, df.head() displays the first 5 rows of the DataFrame df.\\n\\ninfo(): This function provides information about the DataFrame, including the number of rows and columns, the data type of each column, and the amount of memory used.\\n\\ndescribe(): This function generates descriptive statistics of the DataFrame, including count, mean, standard deviation, minimum, maximum, and quartile values.\\n\\ngroupby(): This function groups the DataFrame by one or more columns, allowing for aggregation operations such as sum, count, mean, and more to be performed on the resulting groups.\\n\\nsort_values(): This function sorts the DataFrame by one or more columns in either ascending or descending order.\\n\\ndrop(): This function drops a specified column or row(s) from the DataFrame.\\n\\nfillna(): This function fills missing values in the DataFrame with a specified value.\\n\\napply(): This function applies a function to each element in a DataFrame or to each column or row.\\n\\npivot_table(): This function creates a pivot table based on a DataFrame, allowing for aggregation and summarization of data.\\n\\nmerge(): This function merges two DataFrames together based on a specified column or columns.\\n\\nThese are just a few examples of the many functions available in Pandas for manipulating data in a DataFrame.\\n'"
      ]
     },
     "execution_count": 12,
     "metadata": {},
     "output_type": "execute_result"
    }
   ],
   "source": [
    "\"\"\"\n",
    "head() and tail(): These functions display the first few or last few rows of a DataFrame respectively. For example, df.head() displays the first 5 rows of the DataFrame df.\n",
    "\n",
    "info(): This function provides information about the DataFrame, including the number of rows and columns, the data type of each column, and the amount of memory used.\n",
    "\n",
    "describe(): This function generates descriptive statistics of the DataFrame, including count, mean, standard deviation, minimum, maximum, and quartile values.\n",
    "\n",
    "groupby(): This function groups the DataFrame by one or more columns, allowing for aggregation operations such as sum, count, mean, and more to be performed on the resulting groups.\n",
    "\n",
    "sort_values(): This function sorts the DataFrame by one or more columns in either ascending or descending order.\n",
    "\n",
    "drop(): This function drops a specified column or row(s) from the DataFrame.\n",
    "\n",
    "fillna(): This function fills missing values in the DataFrame with a specified value.\n",
    "\n",
    "apply(): This function applies a function to each element in a DataFrame or to each column or row.\n",
    "\n",
    "pivot_table(): This function creates a pivot table based on a DataFrame, allowing for aggregation and summarization of data.\n",
    "\n",
    "merge(): This function merges two DataFrames together based on a specified column or columns.\n",
    "\n",
    "These are just a few examples of the many functions available in Pandas for manipulating data in a DataFrame.\n",
    "\"\"\"\n"
   ]
  },
  {
   "cell_type": "code",
   "execution_count": 13,
   "id": "d41ccf39-416c-4237-ba0d-21a82f9821ad",
   "metadata": {},
   "outputs": [],
   "source": [
    "data = {'Fruit': ['apple', 'banana', 'mango', 'grapes'], 'Price': [1, 2, 3, 4]}\n",
    "df = pd.DataFrame(data)"
   ]
  },
  {
   "cell_type": "code",
   "execution_count": 15,
   "id": "67311810-f724-4c6d-ab18-2eae9c34243b",
   "metadata": {},
   "outputs": [
    {
     "data": {
      "text/html": [
       "<div>\n",
       "<style scoped>\n",
       "    .dataframe tbody tr th:only-of-type {\n",
       "        vertical-align: middle;\n",
       "    }\n",
       "\n",
       "    .dataframe tbody tr th {\n",
       "        vertical-align: top;\n",
       "    }\n",
       "\n",
       "    .dataframe thead th {\n",
       "        text-align: right;\n",
       "    }\n",
       "</style>\n",
       "<table border=\"1\" class=\"dataframe\">\n",
       "  <thead>\n",
       "    <tr style=\"text-align: right;\">\n",
       "      <th></th>\n",
       "      <th>Fruit</th>\n",
       "      <th>Price</th>\n",
       "    </tr>\n",
       "  </thead>\n",
       "  <tbody>\n",
       "    <tr>\n",
       "      <th>0</th>\n",
       "      <td>apple</td>\n",
       "      <td>1</td>\n",
       "    </tr>\n",
       "    <tr>\n",
       "      <th>1</th>\n",
       "      <td>banana</td>\n",
       "      <td>2</td>\n",
       "    </tr>\n",
       "    <tr>\n",
       "      <th>2</th>\n",
       "      <td>mango</td>\n",
       "      <td>3</td>\n",
       "    </tr>\n",
       "    <tr>\n",
       "      <th>3</th>\n",
       "      <td>grapes</td>\n",
       "      <td>4</td>\n",
       "    </tr>\n",
       "  </tbody>\n",
       "</table>\n",
       "</div>"
      ],
      "text/plain": [
       "    Fruit  Price\n",
       "0   apple      1\n",
       "1  banana      2\n",
       "2   mango      3\n",
       "3  grapes      4"
      ]
     },
     "execution_count": 15,
     "metadata": {},
     "output_type": "execute_result"
    }
   ],
   "source": [
    "df.head() # one of the use of function."
   ]
  },
  {
   "cell_type": "markdown",
   "id": "4bede328-ba50-45a1-af82-5226168f4c6f",
   "metadata": {},
   "source": [
    "# ANS = 6"
   ]
  },
  {
   "cell_type": "code",
   "execution_count": 16,
   "id": "8771a0ba-95ec-4cf1-983d-aa305293ec99",
   "metadata": {},
   "outputs": [
    {
     "data": {
      "text/plain": [
       "\"\\nBoth Series and DataFrame objects can be modified after creation by assigning new values to existing rows or columns or by adding new rows or columns. \\nHowever, it's important to note that some operations can create a new copy of the object instead of modifying it in place, such as slicing or filtering. \\nIn these cases, the original object remains unchanged and a new object is created.\\n\""
      ]
     },
     "execution_count": 16,
     "metadata": {},
     "output_type": "execute_result"
    }
   ],
   "source": [
    "\"\"\"\n",
    "Both Series and DataFrame objects can be modified after creation by assigning new values to existing rows or columns or by adding new rows or columns. \n",
    "However, it's important to note that some operations can create a new copy of the object instead of modifying it in place, such as slicing or filtering. \n",
    "In these cases, the original object remains unchanged and a new object is created.\n",
    "\"\"\""
   ]
  },
  {
   "cell_type": "markdown",
   "id": "3eb09412-1082-4890-83bd-4e549808933b",
   "metadata": {},
   "source": [
    "# ANS = 7"
   ]
  },
  {
   "cell_type": "code",
   "execution_count": 18,
   "id": "ab02b2cd-05ab-4eb7-ae8e-8b31779f9986",
   "metadata": {},
   "outputs": [
    {
     "name": "stdout",
     "output_type": "stream",
     "text": [
      "      Name  Age  Gender\n",
      "0    Alice   25  Female\n",
      "1      Bob   30    Male\n",
      "2  Charlie   35    Male\n"
     ]
    },
    {
     "data": {
      "text/plain": [
       "\"\\nA DataFrame can be created using multiple Series objects. \\nEach Series object represents a column in the DataFrame.\\n\\nHere's an example:\\n\""
      ]
     },
     "execution_count": 18,
     "metadata": {},
     "output_type": "execute_result"
    }
   ],
   "source": [
    "name = pd.Series(['Alice', 'Bob', 'Charlie'])\n",
    "age = pd.Series([25, 30, 35])\n",
    "gender = pd.Series(['Female', 'Male', 'Male'])\n",
    "\n",
    "\n",
    "df = pd.DataFrame({'Name': name, 'Age': age, 'Gender': gender})\n",
    "\n",
    "\n",
    "print(df)\n",
    "\"\"\"\n",
    "A DataFrame can be created using multiple Series objects. \n",
    "Each Series object represents a column in the DataFrame.\n",
    "\n",
    "Here's an example:\n",
    "\"\"\""
   ]
  },
  {
   "cell_type": "code",
   "execution_count": null,
   "id": "1af91aaf-9244-4823-87b1-dc13cf59f218",
   "metadata": {},
   "outputs": [],
   "source": []
  }
 ],
 "metadata": {
  "kernelspec": {
   "display_name": "Python 3 (ipykernel)",
   "language": "python",
   "name": "python3"
  },
  "language_info": {
   "codemirror_mode": {
    "name": "ipython",
    "version": 3
   },
   "file_extension": ".py",
   "mimetype": "text/x-python",
   "name": "python",
   "nbconvert_exporter": "python",
   "pygments_lexer": "ipython3",
   "version": "3.10.8"
  }
 },
 "nbformat": 4,
 "nbformat_minor": 5
}
