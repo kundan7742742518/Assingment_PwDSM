{
 "cells": [
  {
   "cell_type": "code",
   "execution_count": 1,
   "id": "33ac781d-7604-4eb7-ac12-76084b1b9963",
   "metadata": {},
   "outputs": [],
   "source": [
    "import numpy as np "
   ]
  },
  {
   "cell_type": "markdown",
   "id": "645efdd8-b2c8-4178-80fb-1d9f58593a8a",
   "metadata": {},
   "source": [
    "# ANS = 1"
   ]
  },
  {
   "cell_type": "code",
   "execution_count": 2,
   "id": "836eb69b-0308-46f1-9ce9-d25fd3d2b103",
   "metadata": {},
   "outputs": [
    {
     "data": {
      "text/plain": [
       "'\\nMean: This is the sum of all values in a dataset divided by the total number of values. It is also known as the average.\\n\\nMedian: This is the middle value of a dataset when it is arranged in order of magnitude.\\nIn other words, half the values are above the median and half are below it.\\n\\nMode: This is the value that appears most frequently in a dataset. \\nIf no value appears more than once, the dataset is said to have no mode.\\n'"
      ]
     },
     "execution_count": 2,
     "metadata": {},
     "output_type": "execute_result"
    }
   ],
   "source": [
    "\"\"\"\n",
    "Mean: This is the sum of all values in a dataset divided by the total number of values. It is also known as the average.\n",
    "\n",
    "Median: This is the middle value of a dataset when it is arranged in order of magnitude.\n",
    "In other words, half the values are above the median and half are below it.\n",
    "\n",
    "Mode: This is the value that appears most frequently in a dataset. \n",
    "If no value appears more than once, the dataset is said to have no mode.\n",
    "\"\"\""
   ]
  },
  {
   "cell_type": "markdown",
   "id": "95660e68-caf3-467f-a235-a19a16678733",
   "metadata": {},
   "source": [
    "# ANS = 2"
   ]
  },
  {
   "cell_type": "code",
   "execution_count": 3,
   "id": "9cb67260-9f29-40cd-84cf-88ba706440cf",
   "metadata": {},
   "outputs": [
    {
     "data": {
      "text/plain": [
       "'\\nThe mean is calculated by adding up all the values \\nin a dataset and dividing by the number of values. \\nIt is sensitive to outliers, as extreme values can heavily influence the mean.\\nThe mean is commonly used to describe the average value of a dataset.\\n\\nThe median is the middle value in a dataset when the values are arranged in\\norder of magnitude. It is not influenced by outliers as much as the mean, \\nand is often used to describe the typical value of a dataset.\\n\\nThe mode is the value that occurs most frequently in a dataset. \\nIt can be useful for datasets with discrete values, such as whole numbers, \\nand is also not affected by outliers\\n'"
      ]
     },
     "execution_count": 3,
     "metadata": {},
     "output_type": "execute_result"
    }
   ],
   "source": [
    "\"\"\"\n",
    "The mean is calculated by adding up all the values \n",
    "in a dataset and dividing by the number of values. \n",
    "It is sensitive to outliers, as extreme values can heavily influence the mean.\n",
    "The mean is commonly used to describe the average value of a dataset.\n",
    "\n",
    "The median is the middle value in a dataset when the values are arranged in\n",
    "order of magnitude. It is not influenced by outliers as much as the mean, \n",
    "and is often used to describe the typical value of a dataset.\n",
    "\n",
    "The mode is the value that occurs most frequently in a dataset. \n",
    "It can be useful for datasets with discrete values, such as whole numbers, \n",
    "and is also not affected by outliers\n",
    "\"\"\""
   ]
  },
  {
   "cell_type": "markdown",
   "id": "c4e15f11-928a-48b9-988f-0d465f582dec",
   "metadata": {},
   "source": [
    "# ANS = 3"
   ]
  },
  {
   "cell_type": "code",
   "execution_count": 4,
   "id": "df5f6a47-59d3-491b-b1e4-24fe75bfed8a",
   "metadata": {},
   "outputs": [],
   "source": [
    "age  = [178,177,176,177,178.2,178,175,179,180,175,178.9,176.2,177,172.5,178,176.5]"
   ]
  },
  {
   "cell_type": "code",
   "execution_count": 5,
   "id": "d7e41517-a436-4d85-a58a-f23278a23428",
   "metadata": {},
   "outputs": [
    {
     "data": {
      "text/plain": [
       "177.01875"
      ]
     },
     "execution_count": 5,
     "metadata": {},
     "output_type": "execute_result"
    }
   ],
   "source": [
    "np.mean(age)"
   ]
  },
  {
   "cell_type": "code",
   "execution_count": 6,
   "id": "ed92f701-d9ea-4e15-8849-850d46852c6c",
   "metadata": {},
   "outputs": [
    {
     "data": {
      "text/plain": [
       "177.0"
      ]
     },
     "execution_count": 6,
     "metadata": {},
     "output_type": "execute_result"
    }
   ],
   "source": [
    "np.median(age )"
   ]
  },
  {
   "cell_type": "code",
   "execution_count": 7,
   "id": "fecc8a9f-612e-4c03-ac6f-0f4dcd3e6c5c",
   "metadata": {},
   "outputs": [],
   "source": [
    "from scipy import stats as ss"
   ]
  },
  {
   "cell_type": "code",
   "execution_count": 8,
   "id": "333b3937-056a-48d1-8fb7-e65a9a7197ce",
   "metadata": {},
   "outputs": [
    {
     "name": "stderr",
     "output_type": "stream",
     "text": [
      "/tmp/ipykernel_125/289327181.py:1: FutureWarning: Unlike other reduction functions (e.g. `skew`, `kurtosis`), the default behavior of `mode` typically preserves the axis it acts along. In SciPy 1.11.0, this behavior will change: the default value of `keepdims` will become False, the `axis` over which the statistic is taken will be eliminated, and the value None will no longer be accepted. Set `keepdims` to True or False to avoid this warning.\n",
      "  ss.mode(age )\n"
     ]
    },
    {
     "data": {
      "text/plain": [
       "ModeResult(mode=array([177.]), count=array([3]))"
      ]
     },
     "execution_count": 8,
     "metadata": {},
     "output_type": "execute_result"
    }
   ],
   "source": [
    "ss.mode(age)"
   ]
  },
  {
   "cell_type": "code",
   "execution_count": 9,
   "id": "181e7373-4a6b-4195-98d3-a1695a1196b0",
   "metadata": {},
   "outputs": [],
   "source": [
    "# ANS = 4"
   ]
  },
  {
   "cell_type": "code",
   "execution_count": 10,
   "id": "e4ca9d37-20ab-4fcd-a1f3-66752b95bdda",
   "metadata": {},
   "outputs": [
    {
     "data": {
      "text/plain": [
       "1.7885814036548633"
      ]
     },
     "execution_count": 10,
     "metadata": {},
     "output_type": "execute_result"
    }
   ],
   "source": [
    "age = [178,177,176,177,178.2,178,175,179,180,175,178.9,176.2,177,172.5,178,176.5]\n",
    "\n",
    "np.std(age)"
   ]
  },
  {
   "cell_type": "code",
   "execution_count": 11,
   "id": "07ff2f45-d5b3-4512-917a-b13709b11c6c",
   "metadata": {},
   "outputs": [],
   "source": [
    "# ANS = 5"
   ]
  },
  {
   "cell_type": "code",
   "execution_count": 12,
   "id": "3f0b4325-f39e-4642-b8c7-2ab54806d4a8",
   "metadata": {},
   "outputs": [
    {
     "data": {
      "text/plain": [
       "'\\nRANGE :- \\nThe range is the difference between the highest and lowest values in a dataset. \\nIt provides a simple measure of spread but is affected by extreme values.\\nFor example, if the range of test scores in a class is 70 to 90, the range is 20.\\n\\nVARIENCE :-\\nThe variance is a measure of how much the individual data points deviate from the mean\\nIt is calculated by subtracting the mean from each data point, \\nsquaring the differences, adding them up, \\nand dividing by the total number of data points. \\nA high variance indicates that the data points are more spread out, \\nwhile a low variance indicates that they are more tightly clustered around the mean.\\n\\nSTANDERD DEVIATION:-\\nThe standard deviation is the square root of the variance and provides a measure of\\nthe average amount by which the individual data points deviate from the mean. \\nIt is a more commonly used measure of dispersion than variance as it is in the \\nsame units as the original data.\\n\\nEXAMPLE :- \\nFor example, suppose a sample of 10 people took a math test \\nand their scores were as follows:\\n70, 75, 80, 82, 85, 87, 90, 93, 95, 98.\\nThe mean score is 85, the range is 28, \\nthe variance is 99.11, and the standard deviation is 9.95. \\nThe standard deviation indicates that the average deviation of each\\nscore from the mean is approximately 10.\\n'"
      ]
     },
     "execution_count": 12,
     "metadata": {},
     "output_type": "execute_result"
    }
   ],
   "source": [
    "\"\"\"\n",
    "RANGE :- \n",
    "The range is the difference between the highest and lowest values in a dataset. \n",
    "It provides a simple measure of spread but is affected by extreme values.\n",
    "For example, if the range of test scores in a class is 70 to 90, the range is 20.\n",
    "\n",
    "VARIENCE :-\n",
    "The variance is a measure of how much the individual data points deviate from the mean\n",
    "It is calculated by subtracting the mean from each data point, \n",
    "squaring the differences, adding them up, \n",
    "and dividing by the total number of data points. \n",
    "A high variance indicates that the data points are more spread out, \n",
    "while a low variance indicates that they are more tightly clustered around the mean.\n",
    "\n",
    "STANDERD DEVIATION:-\n",
    "The standard deviation is the square root of the variance and provides a measure of\n",
    "the average amount by which the individual data points deviate from the mean. \n",
    "It is a more commonly used measure of dispersion than variance as it is in the \n",
    "same units as the original data.\n",
    "\n",
    "EXAMPLE :- \n",
    "For example, suppose a sample of 10 people took a math test \n",
    "and their scores were as follows:\n",
    "70, 75, 80, 82, 85, 87, 90, 93, 95, 98.\n",
    "The mean score is 85, the range is 28, \n",
    "the variance is 99.11, and the standard deviation is 9.95. \n",
    "The standard deviation indicates that the average deviation of each\n",
    "score from the mean is approximately 10.\n",
    "\"\"\""
   ]
  },
  {
   "cell_type": "code",
   "execution_count": 13,
   "id": "6d7eda41-3d5e-4126-b60b-3ef0e1fb3281",
   "metadata": {},
   "outputs": [],
   "source": [
    "# ANS = 6"
   ]
  },
  {
   "cell_type": "code",
   "execution_count": 14,
   "id": "1aea8445-80a4-437e-9c94-ba197bdebcf4",
   "metadata": {},
   "outputs": [
    {
     "data": {
      "text/plain": [
       "'\\nA Venn diagram is a graphical representation of the relationship between sets. \\nIt consists of overlapping circles or other shapes, \\nwith each circle representing a set and the overlapping regions representing the \\nelements that are common to both sets.\\n'"
      ]
     },
     "execution_count": 14,
     "metadata": {},
     "output_type": "execute_result"
    }
   ],
   "source": [
    "\"\"\"\n",
    "A Venn diagram is a graphical representation of the relationship between sets. \n",
    "It consists of overlapping circles or other shapes, \n",
    "with each circle representing a set and the overlapping regions representing the \n",
    "elements that are common to both sets.\n",
    "\"\"\""
   ]
  },
  {
   "cell_type": "code",
   "execution_count": 15,
   "id": "77a0eaf0-b51e-4a5c-93e1-d9ef3abfea1d",
   "metadata": {},
   "outputs": [],
   "source": [
    "# ANS = 7 "
   ]
  },
  {
   "cell_type": "code",
   "execution_count": 25,
   "id": "0f82cd41-dc5f-4fbe-b918-84417d0214cc",
   "metadata": {},
   "outputs": [],
   "source": [
    "A = np.array([2,3,4,5,6,7]) \n",
    "B = np.array([0,2,6,8,10])"
   ]
  },
  {
   "cell_type": "code",
   "execution_count": 26,
   "id": "0b9a8161-b77b-4d52-bc94-f8d4f3e5a21d",
   "metadata": {},
   "outputs": [
    {
     "data": {
      "text/plain": [
       "array([2, 6])"
      ]
     },
     "execution_count": 26,
     "metadata": {},
     "output_type": "execute_result"
    }
   ],
   "source": [
    "# A Intersection B \n",
    "np.intersect1d(A,B)"
   ]
  },
  {
   "cell_type": "code",
   "execution_count": 27,
   "id": "6b03e5c1-9999-402a-b0fb-bbb18def8b85",
   "metadata": {},
   "outputs": [
    {
     "data": {
      "text/plain": [
       "array([ 0,  2,  3,  4,  5,  6,  7,  8, 10])"
      ]
     },
     "execution_count": 27,
     "metadata": {},
     "output_type": "execute_result"
    }
   ],
   "source": [
    "np.union1d(A,B)"
   ]
  },
  {
   "cell_type": "code",
   "execution_count": 28,
   "id": "3ad2b147-d555-463c-9158-ab5168bbbbe6",
   "metadata": {},
   "outputs": [],
   "source": [
    "# ANS = 8"
   ]
  },
  {
   "cell_type": "code",
   "execution_count": 29,
   "id": "fd6dd2ec-afb9-4862-9b53-fd7d39965efc",
   "metadata": {},
   "outputs": [
    {
     "data": {
      "text/plain": [
       "'\\nSkewness is a measure of the asymmetry of a probability distribution or a dataset.\\nA distribution is said to be skewed if it is not symmetrical, \\nwhich means that one tail of the distribution has more data points than the other.\\n'"
      ]
     },
     "execution_count": 29,
     "metadata": {},
     "output_type": "execute_result"
    }
   ],
   "source": [
    "\"\"\"\n",
    "Skewness is a measure of the asymmetry of a probability distribution or a dataset.\n",
    "A distribution is said to be skewed if it is not symmetrical, \n",
    "which means that one tail of the distribution has more data points than the other.\n",
    "\"\"\""
   ]
  },
  {
   "cell_type": "code",
   "execution_count": 30,
   "id": "9d86c58c-602a-4a55-aa7c-b3148fbf1499",
   "metadata": {},
   "outputs": [],
   "source": [
    "# ANS = 9"
   ]
  },
  {
   "cell_type": "code",
   "execution_count": 31,
   "id": "77242f22-5ece-4a6a-be50-cfe4fa999147",
   "metadata": {},
   "outputs": [
    {
     "data": {
      "text/plain": [
       "'\\nA distribution is positively skewed if the tail on the\\nright side of the distribution is longer or has more data\\npoints than the tail on the left side. \\nIn a positively skewed distribution, the mean is greater than the median.\\n'"
      ]
     },
     "execution_count": 31,
     "metadata": {},
     "output_type": "execute_result"
    }
   ],
   "source": [
    "\"\"\"\n",
    "A distribution is positively skewed if the tail on the\n",
    "right side of the distribution is longer or has more data\n",
    "points than the tail on the left side. \n",
    "In a positively skewed distribution, the mean is greater than the median.\n",
    "\"\"\""
   ]
  },
  {
   "cell_type": "code",
   "execution_count": 32,
   "id": "e45d80a8-aac8-47b5-960a-eaafdd089f1f",
   "metadata": {},
   "outputs": [],
   "source": [
    "# ANS = 10"
   ]
  },
  {
   "cell_type": "code",
   "execution_count": 33,
   "id": "1b7b7829-2f1d-4822-a8bc-74d411980ada",
   "metadata": {},
   "outputs": [
    {
     "data": {
      "text/plain": [
       "'\\nCovariance is a measure of how two variables vary together. \\nIt is calculated by taking the sum of the products of\\nthe deviations of each variable from their respective means. \\nThe formula for covariance is:-\\ncov(X,Y) = Σ[(Xi - X_mean) * (Yi - Y_mean)] / (n-1)\\n\\nCorrelation, on the other hand, \\nis a standardized measure of the relationship between two variables. \\nIt is calculated by dividing the covariance by the product of the standard\\ndeviations of the two variables. The formula for correlation is:-\\ncorr(X,Y) = cov(X,Y) / (std(X) * std(Y))\\n\\n\\nStatistical Analysis:-\\n\\nIn statistical analysis, \\nboth covariance and correlation are used to determine the degree and direction of \\nthe relationship between two variables. Covariance is often used in financial analysis\\n, where it can be used to measure the risk and return of a portfolio of assets.\\nCorrelation is used more widely in statistical analysis and is particularly useful \\nin regression analysis, where it is used to measure the strength of the relationship\\nbetween the independent and dependent variables.\\nCorrelation can also be used to identify and remove redundant variables \\nin multivariate analysis.\\n\\n'"
      ]
     },
     "execution_count": 33,
     "metadata": {},
     "output_type": "execute_result"
    }
   ],
   "source": [
    "\"\"\"\n",
    "Covariance is a measure of how two variables vary together. \n",
    "It is calculated by taking the sum of the products of\n",
    "the deviations of each variable from their respective means. \n",
    "The formula for covariance is:-\n",
    "cov(X,Y) = Σ[(Xi - X_mean) * (Yi - Y_mean)] / (n-1)\n",
    "\n",
    "Correlation, on the other hand, \n",
    "is a standardized measure of the relationship between two variables. \n",
    "It is calculated by dividing the covariance by the product of the standard\n",
    "deviations of the two variables. The formula for correlation is:-\n",
    "corr(X,Y) = cov(X,Y) / (std(X) * std(Y))\n",
    "\n",
    "\n",
    "Statistical Analysis:-\n",
    "\n",
    "In statistical analysis, \n",
    "both covariance and correlation are used to determine the degree and direction of \n",
    "the relationship between two variables. Covariance is often used in financial analysis\n",
    ", where it can be used to measure the risk and return of a portfolio of assets.\n",
    "Correlation is used more widely in statistical analysis and is particularly useful \n",
    "in regression analysis, where it is used to measure the strength of the relationship\n",
    "between the independent and dependent variables.\n",
    "Correlation can also be used to identify and remove redundant variables \n",
    "in multivariate analysis.\n",
    "\n",
    "\"\"\""
   ]
  },
  {
   "cell_type": "code",
   "execution_count": 34,
   "id": "e1bf89f6-386b-4620-ba01-8cc7caca541b",
   "metadata": {},
   "outputs": [],
   "source": [
    "# ANS = 11"
   ]
  },
  {
   "cell_type": "code",
   "execution_count": 35,
   "id": "0d505ce5-4dff-4ed1-a886-500674136088",
   "metadata": {},
   "outputs": [
    {
     "data": {
      "text/plain": [
       "'\\nx̄ = (Σ xi) / n\\n\\n75 + 80 + 85 + 90 + 95 = 425\\n\\nx̄ = 425 / 5 = 85\\n'"
      ]
     },
     "execution_count": 35,
     "metadata": {},
     "output_type": "execute_result"
    }
   ],
   "source": [
    "\"\"\"\n",
    "x̄ = (Σ xi) / n\n",
    "\n",
    "75 + 80 + 85 + 90 + 95 = 425\n",
    "\n",
    "x̄ = 425 / 5 = 85\n",
    "\"\"\""
   ]
  },
  {
   "cell_type": "code",
   "execution_count": 36,
   "id": "de0613db-15a6-4e97-b511-f639b238f197",
   "metadata": {},
   "outputs": [],
   "source": [
    "# ANS = 12"
   ]
  },
  {
   "cell_type": "code",
   "execution_count": 37,
   "id": "34ddbebc-7c22-4f0e-a565-25e870fde2f9",
   "metadata": {},
   "outputs": [
    {
     "data": {
      "text/plain": [
       "'\\nMean: The mean is the arithmetic average of the data. \\nFor a normal distribution, \\nthe mean is located at the center of the distribution and\\nis equal to the median and mode.\\n\\nMedian: The median is the value that separates the lower 50% of \\nthe data from the upper 50%. For a normal distribution, \\nthe median is located at the center of the distribution and is \\nequal to the mean and mode.\\n\\nMode: The mode is the value that appears most \\nfrequently in the data. For a normal distribution, \\nthe mode is located at the center of the distribution and \\nis equal to the mean and median.\\n\\n\\nTherefore, for a normal distribution, the mean, \\nmedian, and mode are all equal and located at the center of the distribution.\\nThis makes the normal distribution a symmetrical distribution, \\nwith half of the data falling on either side of the center point.\\n\\n'"
      ]
     },
     "execution_count": 37,
     "metadata": {},
     "output_type": "execute_result"
    }
   ],
   "source": [
    "\"\"\"\n",
    "Mean: The mean is the arithmetic average of the data. \n",
    "For a normal distribution, \n",
    "the mean is located at the center of the distribution and\n",
    "is equal to the median and mode.\n",
    "\n",
    "Median: The median is the value that separates the lower 50% of \n",
    "the data from the upper 50%. For a normal distribution, \n",
    "the median is located at the center of the distribution and is \n",
    "equal to the mean and mode.\n",
    "\n",
    "Mode: The mode is the value that appears most \n",
    "frequently in the data. For a normal distribution, \n",
    "the mode is located at the center of the distribution and \n",
    "is equal to the mean and median.\n",
    "\n",
    "\n",
    "Therefore, for a normal distribution, the mean, \n",
    "median, and mode are all equal and located at the center of the distribution.\n",
    "This makes the normal distribution a symmetrical distribution, \n",
    "with half of the data falling on either side of the center point.\n",
    "\n",
    "\"\"\""
   ]
  },
  {
   "cell_type": "code",
   "execution_count": 38,
   "id": "a72a1994-a5f7-4830-9dee-289f5e5f0825",
   "metadata": {},
   "outputs": [],
   "source": [
    "# ANS = 13"
   ]
  },
  {
   "cell_type": "code",
   "execution_count": 39,
   "id": "b71e46c4-a724-43c1-9b43-c0e46f7ccfc2",
   "metadata": {},
   "outputs": [
    {
     "data": {
      "text/plain": [
       "'\\nCovariance is a measure of how much two variables vary together. Specifically, covariance measures the joint variability of two random variables. A positive covariance indicates that the two variables tend to increase or decrease together, while a negative covariance indicates that the two variables tend to move in opposite directions. However, the magnitude of the covariance does not provide any information about the strength of the relationship.\\n\\nCorrelation, on the other hand, is a standardized measure of the linear relationship between two variables. Correlation ranges from -1 to 1, with a correlation of 1 indicating a perfect positive linear relationship, a correlation of -1 indicating a perfect negative linear relationship, and a correlation of 0 indicating no linear relationship.\\n\\nIn summary, covariance measures the joint variability of two variables, while correlation measures the strength of the linear relationship between two variables. Correlation is often preferred over covariance because it is standardized, making it easier to compare the strength of relationships between different pairs of variables.\\n'"
      ]
     },
     "execution_count": 39,
     "metadata": {},
     "output_type": "execute_result"
    }
   ],
   "source": [
    "\"\"\"\n",
    "Covariance is a measure of how much two variables vary together. Specifically, covariance measures the joint variability of two random variables. A positive covariance indicates that the two variables tend to increase or decrease together, while a negative covariance indicates that the two variables tend to move in opposite directions. However, the magnitude of the covariance does not provide any information about the strength of the relationship.\n",
    "\n",
    "Correlation, on the other hand, is a standardized measure of the linear relationship between two variables. Correlation ranges from -1 to 1, with a correlation of 1 indicating a perfect positive linear relationship, a correlation of -1 indicating a perfect negative linear relationship, and a correlation of 0 indicating no linear relationship.\n",
    "\n",
    "In summary, covariance measures the joint variability of two variables, while correlation measures the strength of the linear relationship between two variables. Correlation is often preferred over covariance because it is standardized, making it easier to compare the strength of relationships between different pairs of variables.\n",
    "\"\"\""
   ]
  },
  {
   "cell_type": "code",
   "execution_count": 40,
   "id": "79a435cc-6e18-4e1f-99b9-40377c193a98",
   "metadata": {},
   "outputs": [],
   "source": [
    "# ANS = 14"
   ]
  },
  {
   "cell_type": "code",
   "execution_count": 41,
   "id": "3be3fb08-4ee8-490a-9400-80ed34883e99",
   "metadata": {},
   "outputs": [
    {
     "data": {
      "text/plain": [
       "'\\nOutliers can have a significant effect on measures of central tendency and dispersion in a dataset. Central tendency measures, such as the mean and median, are sensitive to outliers, as they can pull the central value of the dataset towards them. Dispersion measures, such as standard deviation and range, are also affected by outliers, as they can increase the variability in the dataset.\\n\\nFor example, consider a dataset of the following values: 10, 12, 13, 14, 15, 16, 17, 18, 19, and 100. In this dataset, the value 100 is an outlier, as it is much larger than the other values. If we calculate the mean of this dataset, we get:\\n\\n(mean) = (10 + 12 + 13 + 14 + 15 + 16 + 17 + 18 + 19 + 100) / 10 = 22.4\\n\\nAs we can see, the mean is significantly larger than most of the values in the dataset, which is primarily due to the presence of the outlier. If we calculate the median instead, we get:\\n\\n(median) = 15.5\\n\\nThe median is less affected by the outlier than the mean, as it represents the middle value in the dataset. However, the outlier still affects the median to some extent.\\n\\nIf we calculate the standard deviation of the dataset, we get:\\n\\n(standard deviation) = 28.75\\n\\nThe standard deviation is much larger than we might expect, due to the presence of the outlier. Similarly, if we calculate the range of the dataset, we get:\\n\\n(range) = 90\\n\\nThe range is also much larger than we might expect, due to the presence of the outlier.\\n\\nOverall, outliers can have a significant effect on measures of central tendency and dispersion in a dataset, and it is important to consider their impact when analyzing data.\\n\\n'"
      ]
     },
     "execution_count": 41,
     "metadata": {},
     "output_type": "execute_result"
    }
   ],
   "source": [
    "\"\"\"\n",
    "Outliers can have a significant effect on measures of central tendency and dispersion in a dataset. Central tendency measures, such as the mean and median, are sensitive to outliers, as they can pull the central value of the dataset towards them. Dispersion measures, such as standard deviation and range, are also affected by outliers, as they can increase the variability in the dataset.\n",
    "\n",
    "For example, consider a dataset of the following values: 10, 12, 13, 14, 15, 16, 17, 18, 19, and 100. In this dataset, the value 100 is an outlier, as it is much larger than the other values. If we calculate the mean of this dataset, we get:\n",
    "\n",
    "(mean) = (10 + 12 + 13 + 14 + 15 + 16 + 17 + 18 + 19 + 100) / 10 = 22.4\n",
    "\n",
    "As we can see, the mean is significantly larger than most of the values in the dataset, which is primarily due to the presence of the outlier. If we calculate the median instead, we get:\n",
    "\n",
    "(median) = 15.5\n",
    "\n",
    "The median is less affected by the outlier than the mean, as it represents the middle value in the dataset. However, the outlier still affects the median to some extent.\n",
    "\n",
    "If we calculate the standard deviation of the dataset, we get:\n",
    "\n",
    "(standard deviation) = 28.75\n",
    "\n",
    "The standard deviation is much larger than we might expect, due to the presence of the outlier. Similarly, if we calculate the range of the dataset, we get:\n",
    "\n",
    "(range) = 90\n",
    "\n",
    "The range is also much larger than we might expect, due to the presence of the outlier.\n",
    "\n",
    "Overall, outliers can have a significant effect on measures of central tendency and dispersion in a dataset, and it is important to consider their impact when analyzing data.\n",
    "\n",
    "\"\"\""
   ]
  }
 ],
 "metadata": {
  "kernelspec": {
   "display_name": "Python 3 (ipykernel)",
   "language": "python",
   "name": "python3"
  },
  "language_info": {
   "codemirror_mode": {
    "name": "ipython",
    "version": 3
   },
   "file_extension": ".py",
   "mimetype": "text/x-python",
   "name": "python",
   "nbconvert_exporter": "python",
   "pygments_lexer": "ipython3",
   "version": "3.10.8"
  }
 },
 "nbformat": 4,
 "nbformat_minor": 5
}
